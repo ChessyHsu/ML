{
 "cells": [
  {
   "cell_type": "code",
   "execution_count": null,
   "metadata": {
    "collapsed": true
   },
   "outputs": [],
   "source": [
    "# read input from pickle\n",
    "# turn them into numpy array"
   ]
  },
  {
   "cell_type": "code",
   "execution_count": 1,
   "metadata": {
    "collapsed": true
   },
   "outputs": [],
   "source": [
    "import pickle\n",
    "import numpy as np\n",
    "name='msd_data1.pickle'\n",
    "infile=open(name,'rb')\n",
    "data=pickle.load(infile)\n",
    "infile.close()\n",
    "Y_train=np.array(data['Y_train'])\n",
    "X_train=np.array(data['X_train'])\n",
    "Y_test=np.array(data['Y_test'])\n",
    "X_test=np.array(data['X_test'])"
   ]
  },
  {
   "cell_type": "code",
   "execution_count": null,
   "metadata": {
    "collapsed": true
   },
   "outputs": [],
   "source": [
    "# standarlization"
   ]
  },
  {
   "cell_type": "code",
   "execution_count": 2,
   "metadata": {
    "collapsed": true
   },
   "outputs": [],
   "source": [
    "mean=np.mean(X_train, axis=0)\n",
    "std=np.std(X_train, axis=0)\n",
    "X_train_norm=X_train.copy()\n",
    "X_test_norm=X_test.copy()\n",
    "X_train_norm=(X_train_norm-mean)/std\n",
    "X_test_norm=(X_test_norm-mean)/std"
   ]
  },
  {
   "cell_type": "code",
   "execution_count": 3,
   "metadata": {
    "collapsed": false
   },
   "outputs": [
    {
     "name": "stdout",
     "output_type": "stream",
     "text": [
      "[[  53.39967   56.67781   55.63508 ...    1.3159     2.37448    1.85999]\n",
      " [  42.83464  -33.90478   38.97704 ...    9.72827 -175.51446  -15.8389 ]\n",
      " [  49.88591   23.30563   54.79012 ...    1.94152  101.27241    8.99355]\n",
      " ...\n",
      " [  41.04397  -96.30727   56.8073  ...    3.60251  -97.24809   -5.80797]\n",
      " [  42.8676    43.36365   29.17957 ...   18.71014  208.9029   -11.08426]\n",
      " [  36.57558   29.8733    -3.08101 ...   21.0417   106.60317    3.44396]]\n"
     ]
    }
   ],
   "source": [
    "print(X_train)"
   ]
  },
  {
   "cell_type": "code",
   "execution_count": 4,
   "metadata": {
    "collapsed": false
   },
   "outputs": [
    {
     "name": "stdout",
     "output_type": "stream",
     "text": [
      "[[ 1.62556548  1.05564491  1.33908654 ... -0.22192259 -0.1087769\n",
      "   0.03568937]\n",
      " [-0.09558527 -0.68108552  0.86818824 ...  0.40727698 -1.12403384\n",
      "  -0.78882859]\n",
      " [ 1.05313827  0.41580362  1.31520077 ... -0.17512961  0.45565848\n",
      "   0.36801238]\n",
      " ...\n",
      " [-0.38730362 -1.87752187  1.37222348 ... -0.05089658 -0.67734797\n",
      "  -0.32152912]\n",
      " [-0.09021576  0.80037392  0.59122816 ...  1.07907205  1.06993276\n",
      "  -0.56732961]\n",
      " [-1.11524976  0.54172487 -0.32073102 ...  1.25346007  0.48608246\n",
      "   0.10947997]]\n"
     ]
    }
   ],
   "source": [
    "print(X_train_norm)"
   ]
  },
  {
   "cell_type": "code",
   "execution_count": null,
   "metadata": {
    "collapsed": true
   },
   "outputs": [],
   "source": [
    "# 第一題 [myknn_regressor]\n",
    "# Q1.1 \n",
    "# Create your myknn_regressor.\n",
    "\n",
    "# 將index和distance存在一個list of list\n",
    "# 再用sort取第二個值去比較"
   ]
  },
  {
   "cell_type": "code",
   "execution_count": 8,
   "metadata": {
    "collapsed": true
   },
   "outputs": [],
   "source": [
    "def take(x):\n",
    "    return x[1]\n",
    "class myknn_regressor:\n",
    "    def __init__(self, k, option):\n",
    "        self.k=k\n",
    "        self.option=option\n",
    "        self.xtrain=[]\n",
    "        self.ytrain=[]\n",
    "    def fit(self, x, y):\n",
    "        self.xtrain=x\n",
    "        self.ytrain=y\n",
    "    def predict(self, xtest):\n",
    "        ypred=np.zeros((len(xtest),))\n",
    "        for i in range(len(xtest)):#each test case\n",
    "            dist=[]#index+distance\n",
    "            for j in range(len(self.xtrain)):\n",
    "                temp=(xtest[i]-self.xtrain[j])**(2)\n",
    "                dist.append([j,np.sum(temp)])\n",
    "            dist.sort(key=take)\n",
    "            top=[]\n",
    "            for j in range(self.k):\n",
    "                ypred[i]+=self.ytrain[dist[j][0]]/self.k\n",
    "                top.append(self.ytrain[dist[j][0]])\n",
    "            if self.option=='remove_outliers' and self.k>=10:\n",
    "                top.sort()\n",
    "                q1=self.k*0.25\n",
    "                if q1 % 1 ==0:\n",
    "                    q1=int(q1)\n",
    "                    q1=(top[q1]+top[q1-1])/2\n",
    "                else:\n",
    "                    q1=top[int(q1)]\n",
    "                q3=self.k*0.75\n",
    "                if q3 % 1 ==0:\n",
    "                    q3=int(q3)\n",
    "                    q3=(top[q3]+top[q3-1])/2\n",
    "                else:\n",
    "                    q3=top[int(q3)]\n",
    "                iqr=q3-q1\n",
    "                low=q1-1.5*iqr\n",
    "                high=q3+1.5*iqr\n",
    "                ya=[]\n",
    "                for x in top:\n",
    "                    if x>low and x<high:\n",
    "                        ya.append(x.copy())\n",
    "                ya=np.array(ya)\n",
    "                ypred[i]=np.mean(ya)\n",
    "        return ypred"
   ]
  },
  {
   "cell_type": "code",
   "execution_count": 10,
   "metadata": {
    "collapsed": true
   },
   "outputs": [],
   "source": [
    "def rmse(ypred, y):\n",
    "    return np.sqrt(np.mean((ypred-y)**2))"
   ]
  },
  {
   "cell_type": "code",
   "execution_count": null,
   "metadata": {
    "collapsed": true
   },
   "outputs": [],
   "source": [
    "# Q1.2 \n",
    "# Predictions using k=20 and \"equal_weight\" f\n",
    "# List the RMSE and the first 20 predictions in the testing data."
   ]
  },
  {
   "cell_type": "code",
   "execution_count": 11,
   "metadata": {
    "collapsed": false,
    "scrolled": true
   },
   "outputs": [
    {
     "name": "stdout",
     "output_type": "stream",
     "text": [
      "[1993.35 1993.8  2000.65 1991.5  1992.8  1998.5  1988.1  1991.65 2002.25\n",
      " 2003.   2000.5  1998.65 1995.55 1997.2  1995.05 1997.4  1992.15 2000.45\n",
      " 2003.2  1995.75]\n",
      "10.25126451549596\n"
     ]
    }
   ],
   "source": [
    "myknn = myknn_regressor(20, \"equal_weight\")\n",
    "myknn.fit(X_train_norm, Y_train)\n",
    "ypred = myknn.predict(X_test_norm)\n",
    "performance=rmse(ypred,Y_test)\n",
    "print(ypred[:20])\n",
    "print(performance)"
   ]
  },
  {
   "cell_type": "code",
   "execution_count": null,
   "metadata": {
    "collapsed": true
   },
   "outputs": [],
   "source": [
    "# Q1.3\n",
    "# Predictions using k=20 and \"remove_outier\" f\n",
    "# List the RMSE and the first 20 predictions in the testing data."
   ]
  },
  {
   "cell_type": "code",
   "execution_count": 12,
   "metadata": {
    "collapsed": false
   },
   "outputs": [
    {
     "name": "stdout",
     "output_type": "stream",
     "text": [
      "[1993.35       1993.8        2000.65       1991.5        1992.8\n",
      " 2000.         1988.1        1991.65       2002.25       2003.94736842\n",
      " 2000.5        2000.94444444 1995.55       1997.2        1998.61111111\n",
      " 1997.4        1992.15       2003.83333333 2003.2        1995.75      ]\n",
      "10.230096835631896\n"
     ]
    }
   ],
   "source": [
    "myknn = myknn_regressor(20, \"remove_outliers\")\n",
    "myknn.fit(X_train_norm, Y_train)\n",
    "ypred = myknn.predict(X_test_norm)\n",
    "performance=rmse(ypred,Y_test)\n",
    "print(ypred[:20])\n",
    "print(performance)"
   ]
  },
  {
   "cell_type": "code",
   "execution_count": null,
   "metadata": {
    "collapsed": true
   },
   "outputs": [],
   "source": [
    "# 第二題 [Tuning the Hyper-parameter]\n",
    "# case1: knn with normalization"
   ]
  },
  {
   "cell_type": "code",
   "execution_count": 13,
   "metadata": {
    "collapsed": false
   },
   "outputs": [
    {
     "name": "stdout",
     "output_type": "stream",
     "text": [
      "13.911074724837043\n",
      "12.068170946750795\n",
      "11.389120864846157\n",
      "11.1123354880961\n",
      "10.894692897614565\n",
      "10.425998912973919\n",
      "10.318171959828572\n",
      "10.25126451549596\n",
      "10.23762722509469\n",
      "10.215977156359507\n",
      "10.205243203546763\n",
      "10.204332770527754\n",
      "10.207243171822855\n",
      "10.206033712139762\n",
      "10.208862384446808\n",
      "10.21700262724764\n",
      "10.231954198429056\n",
      "10.247295947386965\n",
      "10.264908458982783\n",
      "10.287098382403647\n",
      "10.317788599090449\n",
      "10.330995620176944\n",
      "10.351940397014143\n"
     ]
    }
   ],
   "source": [
    "from sklearn.neighbors import KNeighborsRegressor\n",
    "ks=[1,2,3,4,5,10,15,20,25,30,35,40,45,50,55,60,80,100,120,140,160,180,200]\n",
    "rmses_norm=[]\n",
    "for k in ks:\n",
    "    neigh = KNeighborsRegressor(n_neighbors=k)\n",
    "    neigh.fit(X_train_norm, Y_train)\n",
    "    knnn=neigh.predict(X_test_norm)\n",
    "    performance=rmse(knnn,Y_test)\n",
    "    rmses_norm.append(performance)\n",
    "    print(performance)"
   ]
  },
  {
   "cell_type": "code",
   "execution_count": null,
   "metadata": {
    "collapsed": true
   },
   "outputs": [],
   "source": [
    "# case2: knn without normalization"
   ]
  },
  {
   "cell_type": "code",
   "execution_count": 14,
   "metadata": {
    "collapsed": false
   },
   "outputs": [
    {
     "name": "stdout",
     "output_type": "stream",
     "text": [
      "14.923638966418345\n",
      "12.777499755429464\n",
      "12.075674967716129\n",
      "11.767805657810635\n",
      "11.466392632384432\n",
      "11.07746090040493\n",
      "10.888979137947995\n",
      "10.797788546734928\n",
      "10.79007301797969\n",
      "10.75026561256701\n",
      "10.717738719772289\n",
      "10.714437504678756\n",
      "10.698494013475852\n",
      "10.69110105960404\n",
      "10.682608734124413\n",
      "10.672535729098724\n",
      "10.662907517124493\n",
      "10.67701950452466\n",
      "10.683139638996407\n",
      "10.687017556442052\n",
      "10.691630026202155\n",
      "10.69071978380711\n",
      "10.698853374700175\n"
     ]
    }
   ],
   "source": [
    "rmses=[]\n",
    "for k in ks:\n",
    "    neigh = KNeighborsRegressor(n_neighbors=k)\n",
    "    neigh.fit(X_train, Y_train)\n",
    "    knn=neigh.predict(X_test)\n",
    "    performance=rmse(knn,Y_test)\n",
    "    rmses.append(performance)\n",
    "    print(performance)"
   ]
  },
  {
   "cell_type": "code",
   "execution_count": null,
   "metadata": {
    "collapsed": true
   },
   "outputs": [],
   "source": [
    "# case3: myknn"
   ]
  },
  {
   "cell_type": "code",
   "execution_count": 15,
   "metadata": {
    "collapsed": false
   },
   "outputs": [
    {
     "name": "stdout",
     "output_type": "stream",
     "text": [
      "[1999. 1994. 2000. ... 2008. 2008. 2001.]\n",
      "13.911074724837043\n",
      "[2003.  1990.  2002.  ... 2003.  2008.  2001.5]\n",
      "12.068170946750795\n",
      "[2003.66666667 1988.33333333 2000.66666667 ... 2001.66666667 2007.66666667\n",
      " 1997.33333333]\n",
      "11.389120864846157\n",
      "[2003.25 1988.75 1999.5  ... 2001.25 2007.5  1994.75]\n",
      "11.1123354880961\n",
      "[2000.6 1990.8 2000.4 ... 2002.2 2007.8 1994.4]\n",
      "10.894692897614568\n",
      "[2002.375 1992.3   1999.2   ... 1995.4   2006.5   1994.7  ]\n",
      "10.451153139459992\n",
      "[1996.         1992.2        2000.26666667 ... 2002.16666667 2006.30769231\n",
      " 1993.53333333]\n",
      "10.277581670823931\n",
      "[1993.35       1993.8        2000.65       ... 2002.94117647 2002.6\n",
      " 1994.25      ]\n",
      "10.230096835631896\n",
      "[1995.69565217 1995.2        2001.28       ... 2001.52380952 2002.68\n",
      " 1994.24      ]\n",
      "10.19065614155901\n",
      "[1992.93333333 1995.53333333 2001.26666667 ... 1996.46666667 2002.68965517\n",
      " 1993.9       ]\n",
      "10.138961714632806\n",
      "[1993.11428571 1995.65714286 2001.34285714 ... 1998.72727273 2002.88235294\n",
      " 1993.91428571]\n",
      "10.103831894869057\n",
      "[1992.3        1995.425      2001.38461538 ... 1999.62162162 2003.07692308\n",
      " 1994.125     ]\n",
      "10.090495875400158\n",
      "[1992.57777778 1996.06666667 2001.5952381  ... 1998.46511628 2003.25581395\n",
      " 1994.26666667]\n",
      "10.081790023728978\n",
      "[1991.8        1995.52       2001.         ... 1998.20833333 2003.125\n",
      " 1994.02      ]\n",
      "10.084583890206702\n",
      "[1992.63636364 1996.30909091 2001.08       ... 1997.09090909 2002.77358491\n",
      " 1994.34545455]\n",
      "10.06157509545477\n",
      "[1992.23333333 1996.6779661  2000.94545455 ... 1997.74576271 2002.98275862\n",
      " 1994.71666667]\n",
      "10.082145231152138\n",
      "[1993.2625     1997.11392405 2000.8630137  ... 1997.84810127 2002.74025974\n",
      " 1995.6       ]\n",
      "10.063521103942389\n",
      "[1993.68       1997.34343434 2000.67741935 ... 1998.98958333 2002.40206186\n",
      " 1995.04      ]\n",
      "10.064946233489977\n",
      "[1994.15       1996.79661017 2000.59459459 ... 1999.46956522 2002.88034188\n",
      " 1995.46666667]\n",
      "10.06838310523937\n",
      "[1994.44604317 1996.85507246 2000.4453125  ... 1999.97727273 2002.56296296\n",
      " 1995.74285714]\n",
      "10.08838135430302\n",
      "[1994.90506329 1997.25316456 1999.12337662 ... 2000.02631579 2001.99354839\n",
      " 1995.75      ]\n",
      "10.110516492257728\n",
      "[1994.16666667 1997.28248588 1998.6091954  ... 2000.03529412 2002.34302326\n",
      " 1996.07222222]\n",
      "10.126588512624334\n",
      "[1995.18781726 1996.82914573 1998.82901554 ... 1999.88888889 2002.28795812\n",
      " 1996.125     ]\n",
      "10.144119404326311\n"
     ]
    }
   ],
   "source": [
    "my_rmses=[]\n",
    "for k in ks:\n",
    "    myknn = myknn_regressor(k, \"remove_outliers\")\n",
    "    myknn.fit(X_train_norm, Y_train)\n",
    "    ypred = myknn.predict(X_test_norm)\n",
    "    print(ypred)\n",
    "    performance=rmse(ypred,Y_test)\n",
    "    my_rmses.append(performance)\n",
    "    print(performance)"
   ]
  },
  {
   "cell_type": "code",
   "execution_count": null,
   "metadata": {
    "collapsed": true
   },
   "outputs": [],
   "source": [
    "# plot the curves\n",
    "# relations between  k(x-axis) and RMSE (y-axis)\n",
    "# red: knn without normalization\n",
    "# blue: knn with normalization\n",
    "# greeen: my knn"
   ]
  },
  {
   "cell_type": "code",
   "execution_count": 17,
   "metadata": {
    "collapsed": false
   },
   "outputs": [
    {
     "data": {
      "image/png": "[encoded data removed]",
      "text/plain": [
       "<Figure size 432x288 with 1 Axes>"
      ]
     },
     "metadata": {
      "needs_background": "light"
     },
     "output_type": "display_data"
    }
   ],
   "source": [
    "import matplotlib.pyplot as plt\n",
    "plt.plot(ks, rmses_norm, 'b')\n",
    "plt.plot(ks, rmses, 'r')\n",
    "plt.plot(ks, my_rmses, 'g')\n",
    "plt.show()"
   ]
  },
  {
   "cell_type": "code",
   "execution_count": null,
   "metadata": {
    "collapsed": true
   },
   "outputs": [],
   "source": [
    "\"\"\"\n",
    "結果討論：\n",
    "\n",
    "有normalize過的knn表現都比較好，因為normalize後將feature的影響力變得一樣，\n",
    "譬如要預測性別，有個feature是身高，有個feature是體重，這兩個單位和數值不一樣，\n",
    "直接拿來計算，會讓一公分跟一公斤的影響力一樣，而實際上不一定如此，\n",
    "所以普遍來說normalize過後的表比較好。\n",
    "\n",
    "可能也會有normalize後表現變差的情形，我推論可能是數值較大的剛好是影響力較大的feature，\n",
    "剛好放大了這個feature的影響力，符合這個特定資料的特性，所以放原本資料的表現還比較好。\n",
    "\n",
    "自己實作的knn表現比套件好，可能是因為remove oulier的效果，讓預測不受離群值影響，所以準確率提高。\n",
    "\"\"\""
   ]
  }
 ],
 "metadata": {
  "anaconda-cloud": {},
  "kernelspec": {
   "display_name": "Python [default]",
   "language": "python",
   "name": "python3"
  },
  "language_info": {
   "codemirror_mode": {
    "name": "ipython",
    "version": 3
   },
   "file_extension": ".py",
   "mimetype": "text/x-python",
   "name": "python",
   "nbconvert_exporter": "python",
   "pygments_lexer": "ipython3",
   "version": "3.5.2"
  }
 },
 "nbformat": 4,
 "nbformat_minor": 2
}
