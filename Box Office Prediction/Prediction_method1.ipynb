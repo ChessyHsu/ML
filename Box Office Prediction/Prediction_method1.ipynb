{
 "cells": [
  {
   "cell_type": "code",
   "execution_count": 1,
   "metadata": {
    "scrolled": true
   },
   "outputs": [
    {
     "name": "stdout",
     "output_type": "stream",
     "text": [
      "Index(['id', 'budget', 'genres', 'homepage', 'original_language', 'overview',\n",
      "       'popularity', 'production_companies', 'production_countries',\n",
      "       'release_date', 'runtime', 'spoken_languages', 'tagline', 'title',\n",
      "       'Keywords', 'cast', 'crew'],\n",
      "      dtype='object')\n"
     ]
    }
   ],
   "source": [
    "import pandas as pd\n",
    "import numpy as np\n",
    "train = pd.read_csv(\"train.csv\")\n",
    "test = pd.read_csv(\"test.csv\")\n",
    "target = train[\"revenue\"]\n",
    "train = train.drop([\"belongs_to_collection\", \"poster_path\", \"imdb_id\", \"original_title\", \"status\", \"revenue\"], axis = 1)\n",
    "test = test.drop([\"belongs_to_collection\", \"poster_path\", \"imdb_id\", \"original_title\", \"status\"], axis = 1)\n",
    "print (train.columns)"
   ]
  },
  {
   "cell_type": "code",
   "execution_count": 2,
   "metadata": {
    "scrolled": true
   },
   "outputs": [],
   "source": [
    "def fillempty(df, colname):\n",
    "    df[colname] = df[colname].astype(\"float64\")\n",
    "    zero_index = (df[df[colname] == 0.0].index)\n",
    "    normal = df[df[colname] != 0.0][colname]\n",
    "    na_index = normal[normal.isna()].index\n",
    "    withoutna = normal[normal.notna()]\n",
    "    filling = np.round(np.mean(withoutna))\n",
    "    for i in na_index:\n",
    "        df.at[i, colname] = filling\n",
    "    for index in zero_index:\n",
    "        df.at[index, colname] = filling\n",
    "    return df"
   ]
  },
  {
   "cell_type": "code",
   "execution_count": 3,
   "metadata": {},
   "outputs": [],
   "source": [
    "train = fillempty(train, \"runtime\")\n",
    "test = fillempty(test, \"runtime\")\n",
    "train[\"budget\"] = train[\"budget\"].astype(\"float64\")\n",
    "test[\"budget\"] = test[\"budget\"].astype(\"float64\")"
   ]
  },
  {
   "cell_type": "markdown",
   "metadata": {},
   "source": [
    "data fixes from https://www.kaggle.com/somang1418/happy-valentines-day-and-keep-kaggling-3"
   ]
  },
  {
   "cell_type": "code",
   "execution_count": 4,
   "metadata": {},
   "outputs": [],
   "source": [
    "train.loc[train['id'] == 16,'revenue'] = 192864          # Skinning\n",
    "train.loc[train['id'] == 90,'budget'] = 30000000         # Sommersby          \n",
    "train.loc[train['id'] == 118,'budget'] = 60000000        # Wild Hogs\n",
    "train.loc[train['id'] == 149,'budget'] = 18000000        # Beethoven\n",
    "train.loc[train['id'] == 313,'revenue'] = 12000000       # The Cookout \n",
    "train.loc[train['id'] == 451,'revenue'] = 12000000       # Chasing Liberty\n",
    "train.loc[train['id'] == 464,'budget'] = 20000000        # Parenthood\n",
    "train.loc[train['id'] == 470,'budget'] = 13000000        # The Karate Kid, Part II\n",
    "train.loc[train['id'] == 513,'budget'] = 930000          # From Prada to Nada\n",
    "train.loc[train['id'] == 797,'budget'] = 8000000         # Welcome to Dongmakgol\n",
    "train.loc[train['id'] == 819,'budget'] = 90000000        # Alvin and the Chipmunks: The Road Chip\n",
    "train.loc[train['id'] == 850,'budget'] = 90000000        # Modern Times\n",
    "train.loc[train['id'] == 1112,'budget'] = 7500000        # An Officer and a Gentleman\n",
    "train.loc[train['id'] == 1131,'budget'] = 4300000        # Smokey and the Bandit   \n",
    "train.loc[train['id'] == 1359,'budget'] = 10000000       # Stir Crazy \n",
    "train.loc[train['id'] == 1542,'budget'] = 1              # All at Once\n",
    "train.loc[train['id'] == 1570,'budget'] = 15800000       # Crocodile Dundee II\n",
    "train.loc[train['id'] == 1571,'budget'] = 4000000        # Lady and the Tramp\n",
    "train.loc[train['id'] == 1714,'budget'] = 46000000       # The Recruit\n",
    "train.loc[train['id'] == 1721,'budget'] = 17500000       # Cocoon\n",
    "train.loc[train['id'] == 1865,'revenue'] = 25000000      # Scooby-Doo 2: Monsters Unleashed\n",
    "train.loc[train['id'] == 2268,'budget'] = 17500000       # Madea Goes to Jail budget\n",
    "train.loc[train['id'] == 2491,'revenue'] = 6800000       # Never Talk to Strangers\n",
    "train.loc[train['id'] == 2602,'budget'] = 31000000       # Mr. Holland's Opus\n",
    "train.loc[train['id'] == 2612,'budget'] = 15000000       # Field of Dreams\n",
    "train.loc[train['id'] == 2696,'budget'] = 10000000       # Nurse 3-D\n",
    "train.loc[train['id'] == 2801,'budget'] = 10000000       # Fracture\n",
    "test.loc[test['id'] == 3889,'budget'] = 15000000       # Colossal\n",
    "test.loc[test['id'] == 6733,'budget'] = 5000000        # The Big Sick\n",
    "test.loc[test['id'] == 3197,'budget'] = 8000000        # High-Rise\n",
    "test.loc[test['id'] == 6683,'budget'] = 50000000       # The Pink Panther 2\n",
    "test.loc[test['id'] == 5704,'budget'] = 4300000        # French Connection II\n",
    "test.loc[test['id'] == 6109,'budget'] = 281756         # Dogtooth\n",
    "test.loc[test['id'] == 7242,'budget'] = 10000000       # Addams Family Values\n",
    "test.loc[test['id'] == 7021,'budget'] = 17540562       #  Two Is a Family\n",
    "test.loc[test['id'] == 5591,'budget'] = 4000000        # The Orphanage\n",
    "test.loc[test['id'] == 4282,'budget'] = 20000000       # Big Top Pee-wee\n",
    "test.loc[test['release_date'].isnull() == True, 'release_date'] = '01/01/98'\n",
    "power_six = train.id[train.budget > 1000][train.revenue < 100]\n",
    "\n",
    "for k in power_six :\n",
    "    train.loc[train['id'] == k,'revenue'] =  train.loc[train['id'] == k,'revenue'] * 1000000"
   ]
  },
  {
   "cell_type": "markdown",
   "metadata": {},
   "source": [
    "# use numeric type to apply simple regression"
   ]
  },
  {
   "cell_type": "code",
   "execution_count": 5,
   "metadata": {},
   "outputs": [],
   "source": [
    "from sklearn.metrics import mean_squared_error\n",
    "def rmse(y_pred, y_true):\n",
    "    return np.sqrt(mean_squared_error(y_pred, y_true))"
   ]
  },
  {
   "cell_type": "markdown",
   "metadata": {},
   "source": [
    "Standardize budget, popularity, runtime"
   ]
  },
  {
   "cell_type": "code",
   "execution_count": 6,
   "metadata": {},
   "outputs": [],
   "source": [
    "from sklearn.preprocessing import StandardScaler\n",
    "# standardize budget\n",
    "scaler = StandardScaler().fit(train.budget.values.reshape(-1, 1))\n",
    "train[\"budget\"] = scaler.transform(train.budget.values.reshape(-1, 1))\n",
    "test[\"budget\"] = scaler.transform(test.budget.values.reshape(-1, 1))\n",
    "# train[\"budget\"] = np.log1p(train[\"budget\"])\n",
    "# test[\"budget\"] = np.log1p(test[\"budget\"])"
   ]
  },
  {
   "cell_type": "code",
   "execution_count": 7,
   "metadata": {},
   "outputs": [],
   "source": [
    "# standardize popularity\n",
    "scaler = StandardScaler().fit(train.popularity.values.reshape(-1, 1))\n",
    "train[\"popularity\"] = scaler.transform(train.popularity.values.reshape(-1, 1))\n",
    "test[\"popularity\"] = scaler.transform(test.popularity.values.reshape(-1, 1))"
   ]
  },
  {
   "cell_type": "code",
   "execution_count": 8,
   "metadata": {},
   "outputs": [],
   "source": [
    "# standardize runtime\n",
    "scaler = StandardScaler().fit(train.runtime.values.reshape(-1, 1))\n",
    "train[\"runtime\"] = scaler.transform(train.runtime.values.reshape(-1, 1))\n",
    "test[\"runtime\"] = scaler.transform(test.runtime.values.reshape(-1, 1))"
   ]
  },
  {
   "cell_type": "markdown",
   "metadata": {},
   "source": [
    "Use [\"budget\", \"popularity\", \"runtime\"] and apply random forest regressor to validate model"
   ]
  },
  {
   "cell_type": "code",
   "execution_count": 9,
   "metadata": {
    "scrolled": true
   },
   "outputs": [
    {
     "data": {
      "text/plain": [
       "2.147195676884636"
      ]
     },
     "execution_count": 9,
     "metadata": {},
     "output_type": "execute_result"
    }
   ],
   "source": [
    "from sklearn.ensemble import RandomForestRegressor\n",
    "from sklearn.metrics import mean_squared_log_error\n",
    "from sklearn.model_selection import train_test_split, KFold\n",
    "X = train.loc[:,[\"budget\", \"popularity\", \"runtime\"]]\n",
    "y = target\n",
    "regr = RandomForestRegressor(max_depth= 5, random_state=0, n_estimators= 500)\n",
    "X_train, X_valid, y_train, y_valid = train_test_split(X, np.log1p(y), test_size=0.1)\n",
    "regr.fit(X_train, y_train)\n",
    "valid = regr.predict(X_valid)\n",
    "rmse(y_valid, valid)"
   ]
  },
  {
   "cell_type": "markdown",
   "metadata": {},
   "source": [
    "Use [\"budget\", \"popularity\", \"runtime\"] and apply random forest regressor to predict revenue"
   ]
  },
  {
   "cell_type": "code",
   "execution_count": 10,
   "metadata": {},
   "outputs": [],
   "source": [
    "regr.fit(train.loc[:,[\"budget\", \"popularity\", \"runtime\"]], target)\n",
    "y_pred = regr.predict(test.loc[:,[\"budget\", \"popularity\", \"runtime\"]])\n",
    "prediction = pd.DataFrame(test[\"id\"])\n",
    "prediction[\"revenue\"] = y_pred\n",
    "prediction = prediction.set_index(\"id\")\n",
    "prediction.to_csv('submission.csv') "
   ]
  },
  {
   "cell_type": "markdown",
   "metadata": {},
   "source": [
    "# process categorical data"
   ]
  },
  {
   "cell_type": "markdown",
   "metadata": {},
   "source": [
    "Process json string to dictionary"
   ]
  },
  {
   "cell_type": "code",
   "execution_count": 11,
   "metadata": {},
   "outputs": [],
   "source": [
    "from ast import literal_eval\n",
    "def json_to_dict(string):\n",
    "    try:\n",
    "        string = literal_eval(string.replace(\"[\", \"\").replace(\"]\", \"\"))\n",
    "    except:\n",
    "        string = \"NaN\"\n",
    "    return string"
   ]
  },
  {
   "cell_type": "markdown",
   "metadata": {},
   "source": [
    "Change dictionary to list of category values "
   ]
  },
  {
   "cell_type": "code",
   "execution_count": 12,
   "metadata": {},
   "outputs": [],
   "source": [
    "def get_data_from_dict(df, colname, target_value):\n",
    "    data = []\n",
    "    for line in df[colname]:\n",
    "        cat = []\n",
    "        dic = json_to_dict(line)\n",
    "        try:\n",
    "            if type(dic) == dict:\n",
    "                cat.append(dic[target_value])\n",
    "            else:\n",
    "                for d in dic:\n",
    "                    cat.append(d[target_value])\n",
    "        except:\n",
    "            cat.append(\"empty\")\n",
    "        data.append(cat)\n",
    "    return data"
   ]
  },
  {
   "cell_type": "markdown",
   "metadata": {},
   "source": [
    "Get the frequency of elements in a specific column"
   ]
  },
  {
   "cell_type": "code",
   "execution_count": 13,
   "metadata": {},
   "outputs": [],
   "source": [
    "from collections import defaultdict\n",
    "from operator import itemgetter\n",
    "def get_freq(feature, number):\n",
    "    dic = defaultdict(int)\n",
    "    for l in feature:\n",
    "        for word in l:\n",
    "            dic[word] += 1\n",
    "    del dic['empty']\n",
    "    sorted_dict = sorted(dic.items(), key=itemgetter(1), reverse = True)\n",
    "    print (len(dic))\n",
    "    res = []\n",
    "    for i in sorted_dict[:number]:\n",
    "        res.append(i[0])\n",
    "    return res, sorted_dict"
   ]
  },
  {
   "cell_type": "markdown",
   "metadata": {},
   "source": [
    "Process released date to more detailed attributes"
   ]
  },
  {
   "cell_type": "code",
   "execution_count": 14,
   "metadata": {},
   "outputs": [],
   "source": [
    "from datetime import timedelta\n",
    "def add_date_features(df, col, prefix):\n",
    "    df[col] = pd.to_datetime(df[col])\n",
    "    future = df[col] > pd.Timestamp(year=2017,month=12,day=31)\n",
    "    df.loc[future, col] -= timedelta(days=365.25*100)\n",
    "    \n",
    "    df[prefix+'_day_of_week'] = df[col].dt.dayofweek\n",
    "    df[prefix+'_day_of_year'] = df[col].dt.dayofyear\n",
    "    df[prefix+'_month'] = df[col].dt.month\n",
    "    df[prefix+'_year'] = df[col].dt.year\n",
    "    df[prefix+'_day'] = df[col].dt.day\n",
    "    df[prefix+'_is_year_end'] = df[col].dt.is_year_end\n",
    "    df[prefix+'_is_year_start'] = df[col].dt.is_year_start\n",
    "    df[prefix+'_week'] = df[col].dt.week\n",
    "    df[prefix+'_quarter'] = df[col].dt.quarter    \n",
    "    \n",
    "    df.drop(col, axis = 1, inplace = True)\n",
    "    return df"
   ]
  },
  {
   "cell_type": "code",
   "execution_count": 15,
   "metadata": {},
   "outputs": [],
   "source": [
    "train = add_date_features(train, 'release_date', 'release')\n",
    "test = add_date_features(test, 'release_date', 'release')"
   ]
  },
  {
   "cell_type": "markdown",
   "metadata": {},
   "source": [
    "Process Homepage to 0 or 1 to identify if a movie has homepage"
   ]
  },
  {
   "cell_type": "code",
   "execution_count": 16,
   "metadata": {
    "scrolled": false
   },
   "outputs": [
    {
     "data": {
      "text/plain": [
       "0    2054\n",
       "1     946\n",
       "Name: homepage, dtype: int64"
      ]
     },
     "execution_count": 16,
     "metadata": {},
     "output_type": "execute_result"
    }
   ],
   "source": [
    "train.loc[train.homepage.isnull() == False, \"homepage\"] = 1\n",
    "train.loc[train.homepage.isnull() == True, \"homepage\"] = 0\n",
    "\n",
    "test.loc[test.homepage.isnull() == False, \"homepage\"] = 1\n",
    "test.loc[test.homepage.isnull() == True, \"homepage\"] = 0\n",
    "train[\"homepage\"].value_counts()"
   ]
  },
  {
   "cell_type": "markdown",
   "metadata": {},
   "source": [
    "Process Genre: \n",
    "\n",
    "select top 15 frequent genre and change every movies genre to binary representation of top 15 frequent genres, also count number of genre of each movie, and drop original genre columns"
   ]
  },
  {
   "cell_type": "code",
   "execution_count": 17,
   "metadata": {
    "scrolled": true
   },
   "outputs": [
    {
     "name": "stdout",
     "output_type": "stream",
     "text": [
      "20\n",
      "top 20 frequent genres: [('Drama', 1531), ('Comedy', 1028), ('Thriller', 789), ('Action', 741), ('Romance', 571), ('Crime', 469), ('Adventure', 439), ('Horror', 301), ('Science Fiction', 290), ('Family', 260), ('Fantasy', 232), ('Mystery', 225), ('Animation', 141), ('History', 132), ('Music', 100), ('War', 100), ('Documentary', 87), ('Western', 43), ('Foreign', 31), ('TV Movie', 1)]\n"
     ]
    }
   ],
   "source": [
    "train[\"genres\"] = get_data_from_dict(train, \"genres\", \"name\")\n",
    "test[\"genres\"] = get_data_from_dict(test, \"genres\", \"name\")\n",
    "sel_genre, dic = get_freq(train[\"genres\"], 15)\n",
    "print (\"top 20 frequent genres:\", dic[:20])\n",
    "for g in sel_genre:\n",
    "    train['genre_' + g] = train['genres'].apply(lambda x: 1 if g in x else 0)\n",
    "    test['genre_' + g] = test['genres'].apply(lambda x: 1 if g in x else 0)\n",
    "train = train.drop(['genres'], axis=1)\n",
    "test = test.drop(['genres'], axis=1)"
   ]
  },
  {
   "cell_type": "markdown",
   "metadata": {},
   "source": [
    "Process production_companies:\n",
    "\n",
    "select top 30 frequent production_companies and change every production_companies values to binary representation of top 30 frequent production_companies, also count number of production_companies of each movie, and drop original production_companies columns"
   ]
  },
  {
   "cell_type": "code",
   "execution_count": 18,
   "metadata": {},
   "outputs": [
    {
     "name": "stdout",
     "output_type": "stream",
     "text": [
      "3695\n",
      "top 30 frequent production_companies: [('Warner Bros.', 202), ('Universal Pictures', 188), ('Paramount Pictures', 161), ('Twentieth Century Fox Film Corporation', 138), ('Columbia Pictures', 91), ('Metro-Goldwyn-Mayer (MGM)', 84), ('New Line Cinema', 75), ('Touchstone Pictures', 63), ('Walt Disney Pictures', 62), ('Columbia Pictures Corporation', 61), ('TriStar Pictures', 53), ('Relativity Media', 48), ('Canal+', 46), ('United Artists', 44), ('Miramax Films', 40), ('Village Roadshow Pictures', 36), ('Regency Enterprises', 31), ('BBC Films', 30), ('Dune Entertainment', 30), ('Working Title Films', 30), ('Fox Searchlight Pictures', 29), ('StudioCanal', 28), ('Lionsgate', 28), ('DreamWorks SKG', 27), ('Fox 2000 Pictures', 25), ('Summit Entertainment', 24), ('Hollywood Pictures', 24), ('Orion Pictures', 24), ('Amblin Entertainment', 23), ('Dimension Films', 23)]\n"
     ]
    }
   ],
   "source": [
    "train[\"production_companies\"] = get_data_from_dict(train, \"production_companies\", \"name\")\n",
    "train['num_companies'] = train['production_companies'].apply(lambda x: len(x) if x != {} else 0)\n",
    "test[\"production_companies\"] = get_data_from_dict(test, \"production_companies\", \"name\")\n",
    "test['num_companies'] = test['production_companies'].apply(lambda x: len(x) if x != {} else 0)\n",
    "sel_comp, dic = get_freq(train[\"production_companies\"], 20)\n",
    "print (\"top 30 frequent production_companies:\", dic[:30])\n",
    "for g in sel_comp:\n",
    "    train['production_companies_' + g] = train['production_companies'].apply(lambda x: 1 if g in x else 0)\n",
    "    test['production_companies_' + g] = test['production_companies'].apply(lambda x: 1 if g in x else 0)\n",
    "\n",
    "train = train.drop(['production_companies'], axis=1)\n",
    "test = test.drop(['production_companies'], axis=1)"
   ]
  },
  {
   "cell_type": "markdown",
   "metadata": {},
   "source": [
    "Process production_countries:\n",
    "\n",
    "select top 7 frequent production_countries and change every production_countries values to binary representation of top 7 frequent production_countries, also count number of production_countries of each movie, and drop original production_countries columns"
   ]
  },
  {
   "cell_type": "code",
   "execution_count": 19,
   "metadata": {},
   "outputs": [
    {
     "name": "stdout",
     "output_type": "stream",
     "text": [
      "74\n",
      "top 15 frequent production_countries: [('United States of America', 2282), ('United Kingdom', 380), ('France', 222), ('Germany', 167), ('Canada', 120), ('India', 81), ('Italy', 64), ('Japan', 61), ('Australia', 61), ('Russia', 58), ('Spain', 54), ('China', 42), ('Hong Kong', 42), ('Ireland', 23), ('Belgium', 23)]\n"
     ]
    }
   ],
   "source": [
    "train[\"production_countries\"] = get_data_from_dict(train, \"production_countries\", \"name\")\n",
    "train['num_countries'] = train['production_countries'].apply(lambda x: len(x) if x != {} else 0)\n",
    "test[\"production_countries\"] = get_data_from_dict(test, \"production_countries\", \"name\")\n",
    "test['num_countries'] = test['production_countries'].apply(lambda x: len(x) if x != {} else 0)\n",
    "sel_country, dic = get_freq(train[\"production_countries\"], 7)\n",
    "print (\"top 15 frequent production_countries:\", dic[:15])\n",
    "for g in sel_country:\n",
    "    train['production_countries_' + g] = train['production_countries'].apply(lambda x: 1 if g in x else 0)\n",
    "    test['production_countries_' + g] = test['production_countries'].apply(lambda x: 1 if g in x else 0)\n",
    "train = train.drop(['production_countries'], axis=1)\n",
    "test = test.drop(['production_countries'], axis=1)"
   ]
  },
  {
   "cell_type": "markdown",
   "metadata": {},
   "source": [
    "Process Keywords:\n",
    "\n",
    "select top 70 frequent Keywords and change every Keywords values to binary representation of top 70 frequent Keywords, also count number of keywords of each movie, and drop original Keyword columns"
   ]
  },
  {
   "cell_type": "code",
   "execution_count": 20,
   "metadata": {},
   "outputs": [
    {
     "name": "stdout",
     "output_type": "stream",
     "text": [
      "7400\n",
      "top 100 frequent Keywords: [('woman director', 175), ('independent film', 155), ('duringcreditsstinger', 134), ('murder', 123), ('based on novel', 111), ('violence', 87), ('sport', 82), ('biography', 77), ('aftercreditsstinger', 75), ('dystopia', 73), ('revenge', 73), ('friendship', 72), ('sex', 71), ('suspense', 67), ('sequel', 66), ('love', 64), ('police', 64), ('teenager', 61), ('nudity', 57), ('female nudity', 53), ('drug', 52), ('prison', 50), ('musical', 49), ('high school', 49), ('los angeles', 48), ('new york', 47), ('family', 45), ('father son relationship', 44), ('kidnapping', 41), ('investigation', 41), ('wedding', 40), ('3d', 40), ('detective', 38), ('london england', 38), ('paris', 37), ('based on comic', 37), ('robbery', 36), ('based on true story', 35), ('dying and death', 34), ('escape', 34), ('alien', 34), ('brother brother relationship', 34), ('prostitute', 34), ('suicide', 33), ('rape', 33), ('corruption', 33), ('death', 32), ('superhero', 32), ('new york city', 31), ('martial arts', 31), ('jealousy', 31), ('remake', 31), ('brother sister relationship', 30), ('soldier', 30), ('world war ii', 30), ('hospital', 30), ('magic', 30), ('future', 29), ('serial killer', 29), ('best friend', 29), ('daughter', 29), ('vampire', 29), ('wife husband relationship', 29), ('gay', 28), ('party', 28), ('blood', 28), ('divorce', 28), ('friends', 28), ('male nudity', 27), ('war', 27), ('explosion', 27), ('adultery', 26), ('hitman', 26), ('lawyer', 26), ('dog', 26), ('small town', 26), ('journalist', 26), ('post-apocalyptic', 26), ('monster', 26), ('time travel', 25), ('hostage', 25), ('money', 25), ('rescue', 25), ('romantic comedy', 25), ('cia', 25), ('love triangle', 25), ('hotel', 24), ('secret', 24), ('assassin', 24), ('fight', 23), (\"love of one's life\", 23), ('airplane', 23), ('infidelity', 23), ('gang', 23), ('helicopter', 23), ('fbi', 23), ('relationship', 22), ('terrorist', 22), ('psychopath', 22), ('survival', 22)]\n"
     ]
    }
   ],
   "source": [
    "train[\"Keywords\"] = get_data_from_dict(train, \"Keywords\", \"name\")\n",
    "train['num_Keywords'] = train['Keywords'].apply(lambda x: len(x) if x != {} else 0)\n",
    "test[\"Keywords\"] = get_data_from_dict(test, \"Keywords\", \"name\")\n",
    "test['num_Keywords'] = test['Keywords'].apply(lambda x: len(x) if x != {} else 0)\n",
    "sel_keyword, dic = get_freq(train[\"Keywords\"], 70)\n",
    "print (\"top 100 frequent Keywords:\", dic[:100])\n",
    "\n",
    "for g in sel_keyword:\n",
    "    train['Keywords_' + g] = train['Keywords'].apply(lambda x: 1 if g in x else 0)\n",
    "    test['Keywords_' + g] = test['Keywords'].apply(lambda x: 1 if g in x else 0)\n",
    "train = train.drop(['Keywords'], axis=1)\n",
    "test = test.drop(['Keywords'], axis=1)"
   ]
  },
  {
   "cell_type": "markdown",
   "metadata": {},
   "source": [
    "Process spoken_languages to number of spoken_languages\n",
    "\n",
    "select top 10 frequent spoken_languages and change every spoken_languages values to binary representation of top 10 frequent spoken_languages, also count number of spoken_languages of each movie, and drop original spoken_languages columns"
   ]
  },
  {
   "cell_type": "code",
   "execution_count": 21,
   "metadata": {},
   "outputs": [
    {
     "name": "stdout",
     "output_type": "stream",
     "text": [
      "56\n",
      "top 20 frequent spoken_languages: [('English', 2618), ('Français', 288), ('Español', 239), ('Deutsch', 169), ('Pусский', 152), ('Italiano', 124), ('日本語', 89), ('普通话', 68), ('हिन्दी', 56), ('', 47), ('Português', 43), ('العربية', 40), ('한국어/조선말', 37), ('广州话 / 廣州話', 36), ('தமிழ்', 27), ('Polski', 25), ('Magyar', 24), ('Latin', 23), ('svenska', 22), ('ภาษาไทย', 22)]\n"
     ]
    }
   ],
   "source": [
    "train[\"spoken_languages\"] = get_data_from_dict(train, \"spoken_languages\", \"name\")\n",
    "train['num_languages'] = train['spoken_languages'].apply(lambda x: len(x) if x != {} else 0)\n",
    "test[\"spoken_languages\"] = get_data_from_dict(test, \"spoken_languages\", \"name\")\n",
    "test['num_languages'] = test['spoken_languages'].apply(lambda x: len(x) if x != {} else 0)\n",
    "sel_spoken_languages, dic= get_freq(train[\"spoken_languages\"], 10)\n",
    "print (\"top 20 frequent spoken_languages:\", dic[:20])\n",
    "for g in sel_spoken_languages:\n",
    "    train['spoken_languages_' + g] = train['spoken_languages'].apply(lambda x: 1 if g in x else 0)\n",
    "    test['spoken_languages_' + g] = test['spoken_languages'].apply(lambda x: 1 if g in x else 0)\n",
    "train = train.drop(['spoken_languages'], axis=1)\n",
    "test = test.drop(['spoken_languages'], axis=1)"
   ]
  },
  {
   "cell_type": "markdown",
   "metadata": {},
   "source": [
    "Process Cast: \n",
    "\n",
    "select 3 main cast and use these to find top 30 frequent main cast and change every cast values to binary representation of top 30 frequent main_cast, also count number of casts of each movie, and drop original cast columns"
   ]
  },
  {
   "cell_type": "code",
   "execution_count": 22,
   "metadata": {},
   "outputs": [
    {
     "name": "stdout",
     "output_type": "stream",
     "text": [
      "4677\n",
      "top 50 frequent cast: [('Robert De Niro', 25), ('Denzel Washington', 19), ('Mel Gibson', 19), ('Samuel L. Jackson', 18), ('Bruce Willis', 18), ('Nicolas Cage', 18), ('Mark Wahlberg', 18), ('Sylvester Stallone', 17), ('Morgan Freeman', 17), ('George Clooney', 17), ('Owen Wilson', 17), ('Johnny Depp', 16), ('Gene Hackman', 16), ('Liam Neeson', 16), ('Susan Sarandon', 16), ('Matt Damon', 16), ('Ethan Hawke', 16), ('Ewan McGregor', 15), ('Tom Hanks', 15), ('Eddie Murphy', 15), ('Christian Bale', 15), ('Colin Farrell', 14), ('Jason Statham', 14), ('Meryl Streep', 14), ('Russell Crowe', 14), ('Harrison Ford', 14), ('Julia Roberts', 14), ('Dennis Quaid', 14), ('John Cusack', 14), ('Michael Caine', 14), ('Tom Cruise', 13), ('Gary Oldman', 13), ('Kurt Russell', 13), ('Arnold Schwarzenegger', 13), ('John Goodman', 13), ('Richard Gere', 13), ('Robert Duvall', 13), ('Robert Downey Jr.', 13), ('Robin Williams', 13), ('Kevin Bacon', 13), ('Jeff Bridges', 13), ('Harvey Keitel', 13), ('Nicole Kidman', 13), ('John Travolta', 12), ('Keanu Reeves', 12), ('Sean Penn', 12), ('Ed Harris', 12), ('Christopher Walken', 12), ('Hugh Jackman', 12), ('Halle Berry', 12)]\n"
     ]
    }
   ],
   "source": [
    "train[\"cast\"] = get_data_from_dict(train, \"cast\", \"name\")\n",
    "train['num_cast'] = train['cast'].apply(lambda x: len(x) if x != {} else 0)\n",
    "test[\"cast\"] = get_data_from_dict(test, \"cast\", \"name\")\n",
    "test['num_cast'] = test['cast'].apply(lambda x: len(x) if x != {} else 0)\n",
    "main_cast = []\n",
    "for c in train[\"cast\"]:\n",
    "    main_cast.append(c[:3])\n",
    "sel_main_cast, dic = get_freq(main_cast, 30)\n",
    "print (\"top 50 frequent cast:\", dic[:50])\n",
    "for g in sel_main_cast:\n",
    "    train['cast_' + g] = train['cast'].apply(lambda x: 1 if g in x else 0)\n",
    "    test['cast_' + g] = test['cast'].apply(lambda x: 1 if g in x else 0)\n",
    "train = train.drop(['cast'], axis=1)\n",
    "test = test.drop(['cast'], axis=1)"
   ]
  },
  {
   "cell_type": "markdown",
   "metadata": {},
   "source": [
    "Process Crew: \n",
    "\n",
    "select only the director and use these to find top 15 frequent director and change every crew values to binary representation of top 15 frequent director, also count number of crews of each movie, and drop original crew columns"
   ]
  },
  {
   "cell_type": "code",
   "execution_count": 23,
   "metadata": {
    "scrolled": true
   },
   "outputs": [
    {
     "name": "stdout",
     "output_type": "stream",
     "text": [
      "1871\n",
      "top 50 frequent crew: [('Ron Howard', 11), ('Clint Eastwood', 11), ('Steven Spielberg', 10), ('Blake Edwards', 9), ('Woody Allen', 9), ('Wes Craven', 8), ('Martin Scorsese', 8), ('Paul W.S. Anderson', 8), ('Alfred Hitchcock', 8), ('Michael Bay', 8), ('Francis Ford Coppola', 8), ('Brian De Palma', 8), ('Steven Soderbergh', 8), ('Joel Schumacher', 7), ('Peter Hyams', 7), ('Peter Jackson', 7), ('Michael Mann', 7), ('Tim Burton', 7), ('Billy Wilder', 7), ('Roger Donaldson', 7), ('Ridley Scott', 7), ('Garry Marshall', 6), ('Wolfgang Petersen', 6), ('Todd Phillips', 6), ('Ivan Reitman', 6), ('Renny Harlin', 6), ('Sidney Lumet', 6), ('Oliver Stone', 6), ('Lasse Hallstr√∂m', 6), ('Richard Linklater', 6)]\n"
     ]
    }
   ],
   "source": [
    "crew_work = get_data_from_dict(train, \"crew\", \"job\")\n",
    "train[\"crew\"] = get_data_from_dict(train, \"crew\", \"name\")\n",
    "train['num_crew'] = train['crew'].apply(lambda x: len(x) if x != {} else 0)\n",
    "test[\"crew\"] = get_data_from_dict(test, \"crew\", \"name\")\n",
    "test['num_crew'] = test['crew'].apply(lambda x: len(x) if x != {} else 0)\n",
    "crew_dict = []\n",
    "for i in range(len(train[\"crew\"])):\n",
    "    crew_dict.append(dict(zip(crew_work[i], train[\"crew\"][i])))\n",
    "\n",
    "director = []\n",
    "for workers in crew_dict:\n",
    "    try:\n",
    "        director.append(workers[\"Director\"])\n",
    "    except:\n",
    "        director.append(\"empty\")\n",
    "\n",
    "dic = defaultdict(int)\n",
    "for l in director:\n",
    "    dic[l] += 1\n",
    "del dic[\"empty\"]\n",
    "print (len(dic))\n",
    "sorted_dict = sorted(dic.items(), key=itemgetter(1), reverse = True)\n",
    "print (\"top 50 frequent crew:\", sorted_dict[:30])\n",
    "res = []\n",
    "for i in sorted_dict[:15]:\n",
    "    res.append(i[0])\n",
    "\n",
    "for g in res:\n",
    "    train['crew_' + g] = train['crew'].apply(lambda x: 1 if g in x else 0)\n",
    "    test['crew_' + g] = test['crew'].apply(lambda x: 1 if g in x else 0)\n",
    "train = train.drop(['crew'], axis=1)\n",
    "test = test.drop(['crew'], axis=1)"
   ]
  },
  {
   "cell_type": "markdown",
   "metadata": {},
   "source": [
    "Process original_language:\n",
    "\n",
    "select top 7 frequent original_language and change every original_language values to binary representation of top 7 frequent original_language, and drop original_language columns"
   ]
  },
  {
   "cell_type": "code",
   "execution_count": 24,
   "metadata": {},
   "outputs": [
    {
     "name": "stdout",
     "output_type": "stream",
     "text": [
      "36\n",
      "top 15 frequent original_language: [('en', 2575), ('fr', 78), ('ru', 47), ('es', 43), ('hi', 42), ('ja', 37), ('it', 24), ('ko', 20), ('cn', 20), ('zh', 19), ('de', 18), ('ta', 16), ('sv', 8), ('nl', 6), ('pt', 6)]\n"
     ]
    }
   ],
   "source": [
    "dic = defaultdict(int)\n",
    "for l in train.original_language:\n",
    "    dic[l] += 1\n",
    "print (len(dic))\n",
    "\n",
    "sorted_dict = sorted(dic.items(), key=itemgetter(1), reverse = True)\n",
    "print (\"top 15 frequent original_language:\", sorted_dict[:15])\n",
    "res = []\n",
    "for i in sorted_dict[:7]:\n",
    "    res.append(i[0])\n",
    "for g in res:\n",
    "    train['original_language_' + g] = train['original_language'].apply(lambda x: 1 if g in x else 0)\n",
    "    test['original_language_' + g] = test['original_language'].apply(lambda x: 1 if g in x else 0)\n",
    "train = train.drop(['original_language'], axis=1)\n",
    "test = test.drop(['original_language'], axis=1)"
   ]
  },
  {
   "cell_type": "code",
   "execution_count": 25,
   "metadata": {},
   "outputs": [
    {
     "name": "stdout",
     "output_type": "stream",
     "text": [
      "(3000, 198)\n",
      "Index(['id', 'budget', 'homepage', 'overview', 'popularity', 'runtime',\n",
      "       'tagline', 'title', 'revenue', 'release_day_of_week',\n",
      "       ...\n",
      "       'crew_Steven Soderbergh', 'crew_Joel Schumacher', 'crew_Peter Hyams',\n",
      "       'original_language_en', 'original_language_fr', 'original_language_ru',\n",
      "       'original_language_es', 'original_language_hi', 'original_language_ja',\n",
      "       'original_language_it'],\n",
      "      dtype='object', length=198)\n"
     ]
    }
   ],
   "source": [
    "print (train.shape)\n",
    "print (train.columns)"
   ]
  },
  {
   "cell_type": "markdown",
   "metadata": {},
   "source": [
    "Drop pure text columns because by processing these texts to word vectors doesn't improve the performance of prediction"
   ]
  },
  {
   "cell_type": "code",
   "execution_count": 26,
   "metadata": {},
   "outputs": [],
   "source": [
    "train = train.drop([\"id\", \"tagline\", \"overview\", \"title\", \"revenue\"], axis = 1)\n",
    "tid = test.id.values\n",
    "test = test.drop([\"id\", \"tagline\", \"overview\", \"title\"], axis = 1)\n",
    "X_train, X_valid, y_train, y_valid = train_test_split(train, np.log1p(target), test_size=0.1)"
   ]
  },
  {
   "cell_type": "code",
   "execution_count": 27,
   "metadata": {},
   "outputs": [
    {
     "name": "stdout",
     "output_type": "stream",
     "text": [
      "Training until validation scores don't improve for 200 rounds.\n",
      "[1000]\ttraining's rmse: 1.52038\tvalid_1's rmse: 2.02981\n",
      "Early stopping, best iteration is:\n",
      "[1428]\ttraining's rmse: 1.40714\tvalid_1's rmse: 2.02527\n"
     ]
    },
    {
     "data": {
      "text/plain": [
       "LGBMRegressor(bagging_fraction=0.9, bagging_freq=1, bagging_seed=11,\n",
       "       boosting='gbdt', boosting_type='gbdt', class_weight=None,\n",
       "       colsample_bytree=1.0, feature_fraction=0.9, importance_type='split',\n",
       "       lambda_l1=0.2, learning_rate=0.01, max_depth=5, metric='rmse',\n",
       "       min_child_samples=20, min_child_weight=0.001, min_data_in_leaf=20,\n",
       "       min_split_gain=0.0, n_estimators=20000, n_jobs=-1, nthread=4,\n",
       "       num_leaves=30, objective='regression', random_state=None,\n",
       "       reg_alpha=0.0, reg_lambda=0.0, silent=True, subsample=1.0,\n",
       "       subsample_for_bin=200000, subsample_freq=0, verbosity=-1)"
      ]
     },
     "execution_count": 27,
     "metadata": {},
     "output_type": "execute_result"
    }
   ],
   "source": [
    "import lightgbm as lgb\n",
    "params = {'num_leaves': 30,\n",
    "         'min_data_in_leaf': 20,\n",
    "         'objective': 'regression',\n",
    "         'max_depth': 5,\n",
    "         'learning_rate': 0.01,\n",
    "         \"boosting\": \"gbdt\",\n",
    "         \"feature_fraction\": 0.9,\n",
    "         \"bagging_freq\": 1,\n",
    "         \"bagging_fraction\": 0.9,\n",
    "         \"bagging_seed\": 11,\n",
    "         \"metric\": 'rmse',\n",
    "         \"lambda_l1\": 0.2,\n",
    "         \"verbosity\": -1}\n",
    "model1 = lgb.LGBMRegressor(**params, n_estimators = 20000, nthread = 4, n_jobs = -1)\n",
    "model1.fit(X_train, y_train, \n",
    "        eval_set=[(X_train, y_train), (X_valid, y_valid)], eval_metric='rmse',\n",
    "        verbose=1000, early_stopping_rounds=200)"
   ]
  },
  {
   "cell_type": "markdown",
   "metadata": {},
   "source": [
    "check feature importances by eli5 show_weights function, By default,“information gain” is used to calculate feature importance, that is the average gain of the feature when it is used in trees."
   ]
  },
  {
   "cell_type": "code",
   "execution_count": 28,
   "metadata": {},
   "outputs": [
    {
     "data": {
      "text/html": [
       "\n",
       "    <style>\n",
       "    table.eli5-weights tr:hover {\n",
       "        filter: brightness(85%);\n",
       "    }\n",
       "</style>\n",
       "\n",
       "\n",
       "\n",
       "    \n",
       "\n",
       "    \n",
       "\n",
       "    \n",
       "\n",
       "    \n",
       "\n",
       "    \n",
       "\n",
       "    \n",
       "\n",
       "\n",
       "    \n",
       "\n",
       "    \n",
       "\n",
       "    \n",
       "\n",
       "    \n",
       "\n",
       "    \n",
       "\n",
       "    \n",
       "\n",
       "\n",
       "    \n",
       "\n",
       "    \n",
       "\n",
       "    \n",
       "\n",
       "    \n",
       "\n",
       "    \n",
       "        <table class=\"eli5-weights eli5-feature-importances\" style=\"border-collapse: collapse; border: none; margin-top: 0em; table-layout: auto;\">\n",
       "    <thead>\n",
       "    <tr style=\"border: none;\">\n",
       "        <th style=\"padding: 0 1em 0 0.5em; text-align: right; border: none;\">Weight</th>\n",
       "        <th style=\"padding: 0 0.5em 0 0.5em; text-align: left; border: none;\">Feature</th>\n",
       "    </tr>\n",
       "    </thead>\n",
       "    <tbody>\n",
       "    \n",
       "        <tr style=\"background-color: hsl(120, 100.00%, 80.00%); border: none;\">\n",
       "            <td style=\"padding: 0 1em 0 0.5em; text-align: right; border: none;\">\n",
       "                0.4623\n",
       "                \n",
       "            </td>\n",
       "            <td style=\"padding: 0 0.5em 0 0.5em; text-align: left; border: none;\">\n",
       "                budget\n",
       "            </td>\n",
       "        </tr>\n",
       "    \n",
       "        <tr style=\"background-color: hsl(120, 100.00%, 90.53%); border: none;\">\n",
       "            <td style=\"padding: 0 1em 0 0.5em; text-align: right; border: none;\">\n",
       "                0.1588\n",
       "                \n",
       "            </td>\n",
       "            <td style=\"padding: 0 0.5em 0 0.5em; text-align: left; border: none;\">\n",
       "                popularity\n",
       "            </td>\n",
       "        </tr>\n",
       "    \n",
       "        <tr style=\"background-color: hsl(120, 100.00%, 94.14%); border: none;\">\n",
       "            <td style=\"padding: 0 1em 0 0.5em; text-align: right; border: none;\">\n",
       "                0.0801\n",
       "                \n",
       "            </td>\n",
       "            <td style=\"padding: 0 0.5em 0 0.5em; text-align: left; border: none;\">\n",
       "                release_year\n",
       "            </td>\n",
       "        </tr>\n",
       "    \n",
       "        <tr style=\"background-color: hsl(120, 100.00%, 96.52%); border: none;\">\n",
       "            <td style=\"padding: 0 1em 0 0.5em; text-align: right; border: none;\">\n",
       "                0.0381\n",
       "                \n",
       "            </td>\n",
       "            <td style=\"padding: 0 0.5em 0 0.5em; text-align: left; border: none;\">\n",
       "                runtime\n",
       "            </td>\n",
       "        </tr>\n",
       "    \n",
       "        <tr style=\"background-color: hsl(120, 100.00%, 97.09%); border: none;\">\n",
       "            <td style=\"padding: 0 1em 0 0.5em; text-align: right; border: none;\">\n",
       "                0.0295\n",
       "                \n",
       "            </td>\n",
       "            <td style=\"padding: 0 0.5em 0 0.5em; text-align: left; border: none;\">\n",
       "                release_day_of_year\n",
       "            </td>\n",
       "        </tr>\n",
       "    \n",
       "        <tr style=\"background-color: hsl(120, 100.00%, 97.35%); border: none;\">\n",
       "            <td style=\"padding: 0 1em 0 0.5em; text-align: right; border: none;\">\n",
       "                0.0258\n",
       "                \n",
       "            </td>\n",
       "            <td style=\"padding: 0 0.5em 0 0.5em; text-align: left; border: none;\">\n",
       "                num_cast\n",
       "            </td>\n",
       "        </tr>\n",
       "    \n",
       "        <tr style=\"background-color: hsl(120, 100.00%, 97.55%); border: none;\">\n",
       "            <td style=\"padding: 0 1em 0 0.5em; text-align: right; border: none;\">\n",
       "                0.0230\n",
       "                \n",
       "            </td>\n",
       "            <td style=\"padding: 0 0.5em 0 0.5em; text-align: left; border: none;\">\n",
       "                num_crew\n",
       "            </td>\n",
       "        </tr>\n",
       "    \n",
       "        <tr style=\"background-color: hsl(120, 100.00%, 97.60%); border: none;\">\n",
       "            <td style=\"padding: 0 1em 0 0.5em; text-align: right; border: none;\">\n",
       "                0.0223\n",
       "                \n",
       "            </td>\n",
       "            <td style=\"padding: 0 0.5em 0 0.5em; text-align: left; border: none;\">\n",
       "                release_day\n",
       "            </td>\n",
       "        </tr>\n",
       "    \n",
       "        <tr style=\"background-color: hsl(120, 100.00%, 97.97%); border: none;\">\n",
       "            <td style=\"padding: 0 1em 0 0.5em; text-align: right; border: none;\">\n",
       "                0.0176\n",
       "                \n",
       "            </td>\n",
       "            <td style=\"padding: 0 0.5em 0 0.5em; text-align: left; border: none;\">\n",
       "                num_Keywords\n",
       "            </td>\n",
       "        </tr>\n",
       "    \n",
       "        <tr style=\"background-color: hsl(120, 100.00%, 98.29%); border: none;\">\n",
       "            <td style=\"padding: 0 1em 0 0.5em; text-align: right; border: none;\">\n",
       "                0.0137\n",
       "                \n",
       "            </td>\n",
       "            <td style=\"padding: 0 0.5em 0 0.5em; text-align: left; border: none;\">\n",
       "                release_day_of_week\n",
       "            </td>\n",
       "        </tr>\n",
       "    \n",
       "        <tr style=\"background-color: hsl(120, 100.00%, 98.29%); border: none;\">\n",
       "            <td style=\"padding: 0 1em 0 0.5em; text-align: right; border: none;\">\n",
       "                0.0137\n",
       "                \n",
       "            </td>\n",
       "            <td style=\"padding: 0 0.5em 0 0.5em; text-align: left; border: none;\">\n",
       "                release_week\n",
       "            </td>\n",
       "        </tr>\n",
       "    \n",
       "        <tr style=\"background-color: hsl(120, 100.00%, 98.43%); border: none;\">\n",
       "            <td style=\"padding: 0 1em 0 0.5em; text-align: right; border: none;\">\n",
       "                0.0122\n",
       "                \n",
       "            </td>\n",
       "            <td style=\"padding: 0 0.5em 0 0.5em; text-align: left; border: none;\">\n",
       "                spoken_languages_English\n",
       "            </td>\n",
       "        </tr>\n",
       "    \n",
       "        <tr style=\"background-color: hsl(120, 100.00%, 98.97%); border: none;\">\n",
       "            <td style=\"padding: 0 1em 0 0.5em; text-align: right; border: none;\">\n",
       "                0.0067\n",
       "                \n",
       "            </td>\n",
       "            <td style=\"padding: 0 0.5em 0 0.5em; text-align: left; border: none;\">\n",
       "                genre_Drama\n",
       "            </td>\n",
       "        </tr>\n",
       "    \n",
       "        <tr style=\"background-color: hsl(120, 100.00%, 99.05%); border: none;\">\n",
       "            <td style=\"padding: 0 1em 0 0.5em; text-align: right; border: none;\">\n",
       "                0.0059\n",
       "                \n",
       "            </td>\n",
       "            <td style=\"padding: 0 0.5em 0 0.5em; text-align: left; border: none;\">\n",
       "                production_countries_United_States_of_America\n",
       "            </td>\n",
       "        </tr>\n",
       "    \n",
       "        <tr style=\"background-color: hsl(120, 100.00%, 99.12%); border: none;\">\n",
       "            <td style=\"padding: 0 1em 0 0.5em; text-align: right; border: none;\">\n",
       "                0.0053\n",
       "                \n",
       "            </td>\n",
       "            <td style=\"padding: 0 0.5em 0 0.5em; text-align: left; border: none;\">\n",
       "                genre_Adventure\n",
       "            </td>\n",
       "        </tr>\n",
       "    \n",
       "        <tr style=\"background-color: hsl(120, 100.00%, 99.17%); border: none;\">\n",
       "            <td style=\"padding: 0 1em 0 0.5em; text-align: right; border: none;\">\n",
       "                0.0049\n",
       "                \n",
       "            </td>\n",
       "            <td style=\"padding: 0 0.5em 0 0.5em; text-align: left; border: none;\">\n",
       "                Keywords_independent_film\n",
       "            </td>\n",
       "        </tr>\n",
       "    \n",
       "        <tr style=\"background-color: hsl(120, 100.00%, 99.20%); border: none;\">\n",
       "            <td style=\"padding: 0 1em 0 0.5em; text-align: right; border: none;\">\n",
       "                0.0046\n",
       "                \n",
       "            </td>\n",
       "            <td style=\"padding: 0 0.5em 0 0.5em; text-align: left; border: none;\">\n",
       "                genre_Thriller\n",
       "            </td>\n",
       "        </tr>\n",
       "    \n",
       "        <tr style=\"background-color: hsl(120, 100.00%, 99.23%); border: none;\">\n",
       "            <td style=\"padding: 0 1em 0 0.5em; text-align: right; border: none;\">\n",
       "                0.0044\n",
       "                \n",
       "            </td>\n",
       "            <td style=\"padding: 0 0.5em 0 0.5em; text-align: left; border: none;\">\n",
       "                original_language_fr\n",
       "            </td>\n",
       "        </tr>\n",
       "    \n",
       "        <tr style=\"background-color: hsl(120, 100.00%, 99.24%); border: none;\">\n",
       "            <td style=\"padding: 0 1em 0 0.5em; text-align: right; border: none;\">\n",
       "                0.0044\n",
       "                \n",
       "            </td>\n",
       "            <td style=\"padding: 0 0.5em 0 0.5em; text-align: left; border: none;\">\n",
       "                num_countries\n",
       "            </td>\n",
       "        </tr>\n",
       "    \n",
       "        <tr style=\"background-color: hsl(120, 100.00%, 99.25%); border: none;\">\n",
       "            <td style=\"padding: 0 1em 0 0.5em; text-align: right; border: none;\">\n",
       "                0.0043\n",
       "                \n",
       "            </td>\n",
       "            <td style=\"padding: 0 0.5em 0 0.5em; text-align: left; border: none;\">\n",
       "                genre_Comedy\n",
       "            </td>\n",
       "        </tr>\n",
       "    \n",
       "    \n",
       "        \n",
       "            <tr style=\"background-color: hsl(120, 100.00%, 99.25%); border: none;\">\n",
       "                <td colspan=\"2\" style=\"padding: 0 0.5em 0 0.5em; text-align: center; border: none; white-space: nowrap;\">\n",
       "                    <i>&hellip; 173 more &hellip;</i>\n",
       "                </td>\n",
       "            </tr>\n",
       "        \n",
       "    \n",
       "    </tbody>\n",
       "</table>\n",
       "    \n",
       "\n",
       "    \n",
       "\n",
       "\n",
       "    \n",
       "\n",
       "    \n",
       "\n",
       "    \n",
       "\n",
       "    \n",
       "\n",
       "    \n",
       "\n",
       "    \n",
       "\n",
       "\n",
       "\n"
      ],
      "text/plain": [
       "<IPython.core.display.HTML object>"
      ]
     },
     "execution_count": 28,
     "metadata": {},
     "output_type": "execute_result"
    }
   ],
   "source": [
    "import eli5\n",
    "eli5.show_weights(model1, feature_filter=lambda x: x != '<BIAS>')"
   ]
  },
  {
   "cell_type": "code",
   "execution_count": 29,
   "metadata": {},
   "outputs": [],
   "source": [
    "import xgboost as xgb\n",
    "import time\n",
    "n_fold = 10\n",
    "folds = KFold(n_splits=n_fold, shuffle=True, random_state=42)\n",
    "import matplotlib.pyplot as plt\n",
    "import seaborn as sns\n",
    "def train_model(X, X_test, y, params=None, folds=folds, model_type='lgb', plot_feature_importance=False, model=None):\n",
    "    start_time = time.clock()\n",
    "    oof = np.zeros(X.shape[0])\n",
    "    prediction = np.zeros(X_test.shape[0])\n",
    "    scores = []\n",
    "    feature_importance = pd.DataFrame()\n",
    "    for fold_n, (train_index, valid_index) in enumerate(folds.split(X)):\n",
    "        print('Fold', fold_n, 'started at', time.ctime())\n",
    "        if model_type == 'sklearn':\n",
    "            X_train, X_valid = X[train_index], X[valid_index]\n",
    "        else:\n",
    "            X_train, X_valid = X.values[train_index], X.values[valid_index]\n",
    "        y_train, y_valid = y[train_index], y[valid_index]\n",
    "        \n",
    "        if model_type == 'lgb':\n",
    "            model = lgb.LGBMRegressor(**params, n_estimators = 20000, nthread = 4, n_jobs = -1)\n",
    "            model.fit(X_train, y_train, \n",
    "                    eval_set=[(X_train, y_train), (X_valid, y_valid)], eval_metric='rmse',\n",
    "                    verbose=1000, early_stopping_rounds=200)\n",
    "            \n",
    "            y_pred_valid = model.predict(X_valid)\n",
    "            y_pred = model.predict(X_test, num_iteration=model.best_iteration_)\n",
    "            \n",
    "        if model_type == 'xgb':\n",
    "            train_data = xgb.DMatrix(data=X_train, label=y_train)\n",
    "            valid_data = xgb.DMatrix(data=X_valid, label=y_valid)\n",
    "\n",
    "            watchlist = [(train_data, 'train'), (valid_data, 'valid_data')]\n",
    "            model = xgb.train(dtrain=train_data, num_boost_round=20000, evals=watchlist, early_stopping_rounds=200, verbose_eval=500, params=params)\n",
    "            y_pred_valid = model.predict(xgb.DMatrix(X_valid), ntree_limit=model.best_ntree_limit)\n",
    "            y_pred = model.predict(xgb.DMatrix(X_test.values), ntree_limit=model.best_ntree_limit)\n",
    "            \n",
    "        \n",
    "        oof[valid_index] = y_pred_valid.reshape(-1,)\n",
    "        scores.append(mean_squared_error(y_valid, y_pred_valid) ** 0.5)\n",
    "        \n",
    "        prediction += y_pred    \n",
    "        \n",
    "        if model_type == 'lgb':\n",
    "            # feature importance\n",
    "            fold_importance = pd.DataFrame()\n",
    "            fold_importance[\"feature\"] = X.columns\n",
    "            fold_importance[\"importance\"] = model.feature_importances_\n",
    "            fold_importance[\"fold\"] = fold_n + 1\n",
    "            feature_importance = pd.concat([feature_importance, fold_importance], axis=0)\n",
    "        \n",
    "        if model_type == 'xgb':\n",
    "            def get_xgb_imp(xgb, feat_names):\n",
    "                from numpy import array\n",
    "                imp_vals = xgb.get_fscore()\n",
    "                imp_dict = {feat_names[i]:float(imp_vals.get('f'+str(i),0.)) for i in range(len(feat_names))}\n",
    "                total = array(imp_dict.values()).sum()\n",
    "                return imp_dict.values()\n",
    "            # feature importance\n",
    "            fold_importance = pd.DataFrame()\n",
    "            fold_importance[\"feature\"] = X.columns\n",
    "            fold_importance[\"importance\"] = get_xgb_imp(model, X.columns)\n",
    "            fold_importance[\"fold\"] = fold_n + 1\n",
    "            feature_importance = pd.concat([feature_importance, fold_importance], axis=0)\n",
    "\n",
    "    prediction /= n_fold\n",
    "    \n",
    "    print('CV mean score: {0:.4f}, std: {1:.4f}.'.format(np.mean(scores), np.std(scores)))\n",
    "    print (time.clock() - start_time, \"seconds\")\n",
    "    if model_type == 'lgb':\n",
    "        feature_importance[\"importance\"] /= n_fold\n",
    "        if plot_feature_importance:\n",
    "            cols = feature_importance[[\"feature\", \"importance\"]].groupby(\"feature\").mean().sort_values(\n",
    "                by=\"importance\", ascending=False)[:50].index\n",
    "\n",
    "            best_features = feature_importance.loc[feature_importance.feature.isin(cols)]\n",
    "\n",
    "            plt.figure(figsize=(16, 12));\n",
    "            sns.barplot(x=\"importance\", y=\"feature\", data=best_features.sort_values(by=\"importance\", ascending=False));\n",
    "            plt.title('LGB Features (avg over folds)');\n",
    "        \n",
    "            return oof, prediction, feature_importance\n",
    "        return oof, prediction\n",
    "    if model_type == 'xgb':\n",
    "        feature_importance[\"importance\"] /= n_fold\n",
    "        if plot_feature_importance:\n",
    "            cols = feature_importance[[\"feature\", \"importance\"]].groupby(\"feature\").mean().sort_values(\n",
    "                by=\"importance\", ascending=False)[:50].index\n",
    "\n",
    "            best_features = feature_importance.loc[feature_importance.feature.isin(cols)]\n",
    "\n",
    "            plt.figure(figsize=(16, 12));\n",
    "            sns.barplot(x=\"importance\", y=\"feature\", data=best_features.sort_values(by=\"importance\", ascending=False));\n",
    "            plt.title('LGB Features (avg over folds)');\n",
    "        \n",
    "            return oof, prediction, feature_importance\n",
    "        return oof, prediction\n",
    "    \n",
    "    else:\n",
    "        return oof, prediction"
   ]
  },
  {
   "cell_type": "markdown",
   "metadata": {},
   "source": [
    "train by all features and apply light gbm"
   ]
  },
  {
   "cell_type": "code",
   "execution_count": 30,
   "metadata": {
    "scrolled": true
   },
   "outputs": [
    {
     "name": "stderr",
     "output_type": "stream",
     "text": [
      "C:\\ProgramData\\Anaconda3\\lib\\site-packages\\ipykernel_launcher.py:8: DeprecationWarning: time.clock has been deprecated in Python 3.3 and will be removed from Python 3.8: use time.perf_counter or time.process_time instead\n",
      "  \n"
     ]
    },
    {
     "name": "stdout",
     "output_type": "stream",
     "text": [
      "Fold 0 started at Mon Jun 10 23:08:47 2019\n",
      "Training until validation scores don't improve for 200 rounds.\n",
      "Early stopping, best iteration is:\n",
      "[459]\ttraining's rmse: 1.58918\tvalid_1's rmse: 2.08925\n",
      "Fold 1 started at Mon Jun 10 23:08:49 2019\n",
      "Training until validation scores don't improve for 200 rounds.\n",
      "[1000]\ttraining's rmse: 1.42625\tvalid_1's rmse: 1.80179\n",
      "Early stopping, best iteration is:\n",
      "[1030]\ttraining's rmse: 1.41645\tvalid_1's rmse: 1.8003\n",
      "Fold 2 started at Mon Jun 10 23:08:52 2019\n",
      "Training until validation scores don't improve for 200 rounds.\n",
      "[1000]\ttraining's rmse: 1.39625\tvalid_1's rmse: 1.8296\n",
      "Early stopping, best iteration is:\n",
      "[989]\ttraining's rmse: 1.39946\tvalid_1's rmse: 1.82858\n",
      "Fold 3 started at Mon Jun 10 23:08:55 2019\n",
      "Training until validation scores don't improve for 200 rounds.\n",
      "Early stopping, best iteration is:\n",
      "[682]\ttraining's rmse: 1.50101\tvalid_1's rmse: 1.87262\n",
      "Fold 4 started at Mon Jun 10 23:08:58 2019\n",
      "Training until validation scores don't improve for 200 rounds.\n",
      "[1000]\ttraining's rmse: 1.38545\tvalid_1's rmse: 2.02624\n",
      "[2000]\ttraining's rmse: 1.11679\tvalid_1's rmse: 1.99892\n",
      "Early stopping, best iteration is:\n",
      "[2139]\ttraining's rmse: 1.08418\tvalid_1's rmse: 1.99727\n",
      "Fold 5 started at Mon Jun 10 23:09:03 2019\n",
      "Training until validation scores don't improve for 200 rounds.\n",
      "[1000]\ttraining's rmse: 1.40959\tvalid_1's rmse: 1.77014\n",
      "Early stopping, best iteration is:\n",
      "[1446]\ttraining's rmse: 1.28579\tvalid_1's rmse: 1.75878\n",
      "Fold 6 started at Mon Jun 10 23:09:06 2019\n",
      "Training until validation scores don't improve for 200 rounds.\n",
      "[1000]\ttraining's rmse: 1.35849\tvalid_1's rmse: 2.41404\n",
      "Early stopping, best iteration is:\n",
      "[1259]\ttraining's rmse: 1.28384\tvalid_1's rmse: 2.40214\n",
      "Fold 7 started at Mon Jun 10 23:09:10 2019\n",
      "Training until validation scores don't improve for 200 rounds.\n",
      "[1000]\ttraining's rmse: 1.38125\tvalid_1's rmse: 2.02822\n",
      "[2000]\ttraining's rmse: 1.12605\tvalid_1's rmse: 1.97663\n",
      "Early stopping, best iteration is:\n",
      "[2559]\ttraining's rmse: 1.00946\tvalid_1's rmse: 1.96831\n",
      "Fold 8 started at Mon Jun 10 23:09:16 2019\n",
      "Training until validation scores don't improve for 200 rounds.\n",
      "[1000]\ttraining's rmse: 1.38797\tvalid_1's rmse: 2.11642\n",
      "Early stopping, best iteration is:\n",
      "[1112]\ttraining's rmse: 1.35617\tvalid_1's rmse: 2.11467\n",
      "Fold 9 started at Mon Jun 10 23:09:20 2019\n",
      "Training until validation scores don't improve for 200 rounds.\n",
      "[1000]\ttraining's rmse: 1.3746\tvalid_1's rmse: 1.96929\n",
      "Early stopping, best iteration is:\n",
      "[1362]\ttraining's rmse: 1.26336\tvalid_1's rmse: 1.96066\n",
      "CV mean score: 1.9792, std: 0.1803.\n",
      "36.933672900000005 seconds\n"
     ]
    },
    {
     "name": "stderr",
     "output_type": "stream",
     "text": [
      "C:\\ProgramData\\Anaconda3\\lib\\site-packages\\ipykernel_launcher.py:70: DeprecationWarning: time.clock has been deprecated in Python 3.3 and will be removed from Python 3.8: use time.perf_counter or time.process_time instead\n"
     ]
    },
    {
     "data": {
      "image/png": "[encoded data removed]",
      "text/plain": [
       "<Figure size 1152x864 with 1 Axes>"
      ]
     },
     "metadata": {
      "needs_background": "light"
     },
     "output_type": "display_data"
    }
   ],
   "source": [
    "params = {'num_leaves': 30,\n",
    "         'min_data_in_leaf': 10,\n",
    "         'objective': 'regression',\n",
    "         'max_depth': 5,\n",
    "         'learning_rate': 0.01,\n",
    "         \"boosting\": \"gbdt\",\n",
    "         \"feature_fraction\": 0.9,\n",
    "         \"bagging_freq\": 1,\n",
    "         \"bagging_fraction\": 0.9,\n",
    "         \"bagging_seed\": 11,\n",
    "         \"metric\": 'rmse',\n",
    "         \"lambda_l1\": 0.2,\n",
    "         \"verbosity\": -1}\n",
    "oof_lgb, prediction_lgb, feature_importance = train_model(train, test, np.log1p(target), params=params, model_type='lgb', plot_feature_importance=True)"
   ]
  },
  {
   "cell_type": "markdown",
   "metadata": {},
   "source": [
    "train by top 100 important feature and apply light gbm, does not have big difference"
   ]
  },
  {
   "cell_type": "code",
   "execution_count": 31,
   "metadata": {
    "scrolled": true
   },
   "outputs": [
    {
     "name": "stderr",
     "output_type": "stream",
     "text": [
      "C:\\ProgramData\\Anaconda3\\lib\\site-packages\\ipykernel_launcher.py:8: DeprecationWarning: time.clock has been deprecated in Python 3.3 and will be removed from Python 3.8: use time.perf_counter or time.process_time instead\n",
      "  \n"
     ]
    },
    {
     "name": "stdout",
     "output_type": "stream",
     "text": [
      "Fold 0 started at Mon Jun 10 23:09:27 2019\n",
      "Training until validation scores don't improve for 200 rounds.\n",
      "[1000]\ttraining's rmse: 1.37484\tvalid_1's rmse: 2.08491\n",
      "Early stopping, best iteration is:\n",
      "[1655]\ttraining's rmse: 1.17417\tvalid_1's rmse: 2.0751\n",
      "Fold 1 started at Mon Jun 10 23:09:31 2019\n",
      "Training until validation scores don't improve for 200 rounds.\n",
      "[1000]\ttraining's rmse: 1.42253\tvalid_1's rmse: 1.79689\n",
      "Early stopping, best iteration is:\n",
      "[1029]\ttraining's rmse: 1.41299\tvalid_1's rmse: 1.79532\n",
      "Fold 2 started at Mon Jun 10 23:09:34 2019\n",
      "Training until validation scores don't improve for 200 rounds.\n",
      "[1000]\ttraining's rmse: 1.39085\tvalid_1's rmse: 1.82481\n",
      "Early stopping, best iteration is:\n",
      "[1308]\ttraining's rmse: 1.2983\tvalid_1's rmse: 1.81958\n",
      "Fold 3 started at Mon Jun 10 23:09:37 2019\n",
      "Training until validation scores don't improve for 200 rounds.\n",
      "[1000]\ttraining's rmse: 1.38488\tvalid_1's rmse: 1.86771\n",
      "Early stopping, best iteration is:\n",
      "[1372]\ttraining's rmse: 1.26949\tvalid_1's rmse: 1.86111\n",
      "Fold 4 started at Mon Jun 10 23:09:41 2019\n",
      "Training until validation scores don't improve for 200 rounds.\n",
      "[1000]\ttraining's rmse: 1.37829\tvalid_1's rmse: 2.02006\n",
      "[2000]\ttraining's rmse: 1.09495\tvalid_1's rmse: 1.9868\n",
      "Early stopping, best iteration is:\n",
      "[2335]\ttraining's rmse: 1.01461\tvalid_1's rmse: 1.98322\n",
      "Fold 5 started at Mon Jun 10 23:09:47 2019\n",
      "Training until validation scores don't improve for 200 rounds.\n",
      "[1000]\ttraining's rmse: 1.40634\tvalid_1's rmse: 1.77121\n",
      "Early stopping, best iteration is:\n",
      "[1468]\ttraining's rmse: 1.26517\tvalid_1's rmse: 1.76293\n",
      "Fold 6 started at Mon Jun 10 23:09:51 2019\n",
      "Training until validation scores don't improve for 200 rounds.\n",
      "[1000]\ttraining's rmse: 1.34584\tvalid_1's rmse: 2.42244\n",
      "Early stopping, best iteration is:\n",
      "[1459]\ttraining's rmse: 1.2057\tvalid_1's rmse: 2.40647\n",
      "Fold 7 started at Mon Jun 10 23:09:54 2019\n",
      "Training until validation scores don't improve for 200 rounds.\n",
      "[1000]\ttraining's rmse: 1.38255\tvalid_1's rmse: 2.02032\n",
      "[2000]\ttraining's rmse: 1.10319\tvalid_1's rmse: 1.96317\n",
      "Early stopping, best iteration is:\n",
      "[2689]\ttraining's rmse: 0.946572\tvalid_1's rmse: 1.95221\n",
      "Fold 8 started at Mon Jun 10 23:10:00 2019\n",
      "Training until validation scores don't improve for 200 rounds.\n",
      "[1000]\ttraining's rmse: 1.38338\tvalid_1's rmse: 2.134\n",
      "Early stopping, best iteration is:\n",
      "[1380]\ttraining's rmse: 1.2686\tvalid_1's rmse: 2.12318\n",
      "Fold 9 started at Mon Jun 10 23:10:03 2019\n",
      "Training until validation scores don't improve for 200 rounds.\n",
      "[1000]\ttraining's rmse: 1.37345\tvalid_1's rmse: 1.97021\n",
      "[2000]\ttraining's rmse: 1.09048\tvalid_1's rmse: 1.95983\n",
      "[3000]\ttraining's rmse: 0.879927\tvalid_1's rmse: 1.95164\n",
      "Early stopping, best iteration is:\n",
      "[2843]\ttraining's rmse: 0.908848\tvalid_1's rmse: 1.95025\n",
      "CV mean score: 1.9729, std: 0.1827.\n",
      "42.77765670000001 seconds\n"
     ]
    },
    {
     "name": "stderr",
     "output_type": "stream",
     "text": [
      "C:\\ProgramData\\Anaconda3\\lib\\site-packages\\ipykernel_launcher.py:70: DeprecationWarning: time.clock has been deprecated in Python 3.3 and will be removed from Python 3.8: use time.perf_counter or time.process_time instead\n"
     ]
    },
    {
     "data": {
      "image/png": "[encoded data removed]",
      "text/plain": [
       "<Figure size 1152x864 with 1 Axes>"
      ]
     },
     "metadata": {
      "needs_background": "light"
     },
     "output_type": "display_data"
    }
   ],
   "source": [
    "feature_w = feature_importance.groupby(\"feature\")[\"importance\"].sum() / 10\n",
    "feature_w = feature_w.sort_values(ascending = False)\n",
    "index = list(feature_w[:100].index)\n",
    "im_train = train[index]\n",
    "im_test = test[index]\n",
    "oof_lgb, prediction_lgb, _ = train_model(im_train, im_test, np.log1p(target), params=params, model_type='lgb', plot_feature_importance=True)"
   ]
  },
  {
   "cell_type": "code",
   "execution_count": 32,
   "metadata": {},
   "outputs": [],
   "source": [
    "prediction = pd.DataFrame(tid, columns = [\"id\"])\n",
    "prediction[\"revenue\"] = np.expm1(prediction_lgb)\n",
    "prediction = prediction.set_index(\"id\")\n",
    "prediction.to_csv('lgb_submission.csv') "
   ]
  },
  {
   "cell_type": "markdown",
   "metadata": {},
   "source": [
    "Use all features and apply xgboost, performance weaker than light gbm model"
   ]
  },
  {
   "cell_type": "code",
   "execution_count": 33,
   "metadata": {
    "scrolled": true
   },
   "outputs": [
    {
     "name": "stderr",
     "output_type": "stream",
     "text": [
      "C:\\ProgramData\\Anaconda3\\lib\\site-packages\\ipykernel_launcher.py:8: DeprecationWarning: time.clock has been deprecated in Python 3.3 and will be removed from Python 3.8: use time.perf_counter or time.process_time instead\n",
      "  \n",
      "C:\\ProgramData\\Anaconda3\\lib\\site-packages\\xgboost\\core.py:587: FutureWarning: Series.base is deprecated and will be removed in a future version\n",
      "  if getattr(data, 'base', None) is not None and \\\n"
     ]
    },
    {
     "name": "stdout",
     "output_type": "stream",
     "text": [
      "Fold 0 started at Mon Jun 10 23:10:13 2019\n",
      "[0]\ttrain-rmse:15.5785\tvalid_data-rmse:15.8753\n",
      "Multiple eval metrics have been passed: 'valid_data-rmse' will be used for early stopping.\n",
      "\n",
      "Will train until valid_data-rmse hasn't improved in 200 rounds.\n",
      "[500]\ttrain-rmse:1.18951\tvalid_data-rmse:2.1193\n",
      "[1000]\ttrain-rmse:0.91129\tvalid_data-rmse:2.10845\n",
      "Stopping. Best iteration:\n",
      "[1166]\ttrain-rmse:0.859967\tvalid_data-rmse:2.10707\n",
      "\n",
      "Fold 1 started at Mon Jun 10 23:10:45 2019\n",
      "[0]\ttrain-rmse:15.6066\tvalid_data-rmse:15.6196\n",
      "Multiple eval metrics have been passed: 'valid_data-rmse' will be used for early stopping.\n",
      "\n",
      "Will train until valid_data-rmse hasn't improved in 200 rounds.\n"
     ]
    },
    {
     "name": "stderr",
     "output_type": "stream",
     "text": [
      "C:\\ProgramData\\Anaconda3\\lib\\site-packages\\xgboost\\core.py:587: FutureWarning: Series.base is deprecated and will be removed in a future version\n",
      "  if getattr(data, 'base', None) is not None and \\\n"
     ]
    },
    {
     "name": "stdout",
     "output_type": "stream",
     "text": [
      "[500]\ttrain-rmse:1.20623\tvalid_data-rmse:1.8438\n",
      "[1000]\ttrain-rmse:0.939213\tvalid_data-rmse:1.8194\n",
      "Stopping. Best iteration:\n",
      "[851]\ttrain-rmse:0.995869\tvalid_data-rmse:1.81682\n",
      "\n",
      "Fold 2 started at Mon Jun 10 23:11:10 2019\n",
      "[0]\ttrain-rmse:15.5968\tvalid_data-rmse:15.7095\n",
      "Multiple eval metrics have been passed: 'valid_data-rmse' will be used for early stopping.\n",
      "\n",
      "Will train until valid_data-rmse hasn't improved in 200 rounds.\n"
     ]
    },
    {
     "name": "stderr",
     "output_type": "stream",
     "text": [
      "C:\\ProgramData\\Anaconda3\\lib\\site-packages\\xgboost\\core.py:587: FutureWarning: Series.base is deprecated and will be removed in a future version\n",
      "  if getattr(data, 'base', None) is not None and \\\n"
     ]
    },
    {
     "name": "stdout",
     "output_type": "stream",
     "text": [
      "[500]\ttrain-rmse:1.19948\tvalid_data-rmse:1.98206\n",
      "[1000]\ttrain-rmse:0.921725\tvalid_data-rmse:1.95373\n",
      "[1500]\ttrain-rmse:0.786151\tvalid_data-rmse:1.95353\n",
      "Stopping. Best iteration:\n",
      "[1435]\ttrain-rmse:0.805337\tvalid_data-rmse:1.95053\n",
      "\n",
      "Fold 3 started at Mon Jun 10 23:11:47 2019\n",
      "[0]\ttrain-rmse:15.6272\tvalid_data-rmse:15.4333\n",
      "Multiple eval metrics have been passed: 'valid_data-rmse' will be used for early stopping.\n",
      "\n",
      "Will train until valid_data-rmse hasn't improved in 200 rounds.\n"
     ]
    },
    {
     "name": "stderr",
     "output_type": "stream",
     "text": [
      "C:\\ProgramData\\Anaconda3\\lib\\site-packages\\xgboost\\core.py:587: FutureWarning: Series.base is deprecated and will be removed in a future version\n",
      "  if getattr(data, 'base', None) is not None and \\\n"
     ]
    },
    {
     "name": "stdout",
     "output_type": "stream",
     "text": [
      "[500]\ttrain-rmse:1.18426\tvalid_data-rmse:1.9835\n",
      "[1000]\ttrain-rmse:0.913651\tvalid_data-rmse:1.972\n",
      "Stopping. Best iteration:\n",
      "[929]\ttrain-rmse:0.933396\tvalid_data-rmse:1.96935\n",
      "\n",
      "Fold 4 started at Mon Jun 10 23:12:12 2019\n",
      "[0]\ttrain-rmse:15.6051\tvalid_data-rmse:15.6381\n",
      "Multiple eval metrics have been passed: 'valid_data-rmse' will be used for early stopping.\n",
      "\n",
      "Will train until valid_data-rmse hasn't improved in 200 rounds.\n"
     ]
    },
    {
     "name": "stderr",
     "output_type": "stream",
     "text": [
      "C:\\ProgramData\\Anaconda3\\lib\\site-packages\\xgboost\\core.py:587: FutureWarning: Series.base is deprecated and will be removed in a future version\n",
      "  if getattr(data, 'base', None) is not None and \\\n"
     ]
    },
    {
     "name": "stdout",
     "output_type": "stream",
     "text": [
      "[500]\ttrain-rmse:1.1618\tvalid_data-rmse:2.18185\n",
      "[1000]\ttrain-rmse:0.87375\tvalid_data-rmse:2.15076\n",
      "[1500]\ttrain-rmse:0.716157\tvalid_data-rmse:2.145\n",
      "Stopping. Best iteration:\n",
      "[1623]\ttrain-rmse:0.680893\tvalid_data-rmse:2.14236\n",
      "\n",
      "Fold 5 started at Mon Jun 10 23:12:54 2019\n",
      "[0]\ttrain-rmse:15.6149\tvalid_data-rmse:15.5502\n",
      "Multiple eval metrics have been passed: 'valid_data-rmse' will be used for early stopping.\n",
      "\n",
      "Will train until valid_data-rmse hasn't improved in 200 rounds.\n"
     ]
    },
    {
     "name": "stderr",
     "output_type": "stream",
     "text": [
      "C:\\ProgramData\\Anaconda3\\lib\\site-packages\\xgboost\\core.py:587: FutureWarning: Series.base is deprecated and will be removed in a future version\n",
      "  if getattr(data, 'base', None) is not None and \\\n"
     ]
    },
    {
     "name": "stdout",
     "output_type": "stream",
     "text": [
      "[500]\ttrain-rmse:1.20878\tvalid_data-rmse:1.89591\n",
      "[1000]\ttrain-rmse:0.944223\tvalid_data-rmse:1.87388\n",
      "Stopping. Best iteration:\n",
      "[1115]\ttrain-rmse:0.912408\tvalid_data-rmse:1.86937\n",
      "\n",
      "Fold 6 started at Mon Jun 10 23:13:25 2019\n",
      "[0]\ttrain-rmse:15.6045\tvalid_data-rmse:15.6394\n",
      "Multiple eval metrics have been passed: 'valid_data-rmse' will be used for early stopping.\n",
      "\n",
      "Will train until valid_data-rmse hasn't improved in 200 rounds.\n"
     ]
    },
    {
     "name": "stderr",
     "output_type": "stream",
     "text": [
      "C:\\ProgramData\\Anaconda3\\lib\\site-packages\\xgboost\\core.py:587: FutureWarning: Series.base is deprecated and will be removed in a future version\n",
      "  if getattr(data, 'base', None) is not None and \\\n"
     ]
    },
    {
     "name": "stdout",
     "output_type": "stream",
     "text": [
      "[500]\ttrain-rmse:1.15693\tvalid_data-rmse:2.48208\n",
      "Stopping. Best iteration:\n",
      "[703]\ttrain-rmse:1.01783\tvalid_data-rmse:2.4769\n",
      "\n",
      "Fold 7 started at Mon Jun 10 23:13:46 2019\n",
      "[0]\ttrain-rmse:15.6341\tvalid_data-rmse:15.373\n",
      "Multiple eval metrics have been passed: 'valid_data-rmse' will be used for early stopping.\n",
      "\n",
      "Will train until valid_data-rmse hasn't improved in 200 rounds.\n"
     ]
    },
    {
     "name": "stderr",
     "output_type": "stream",
     "text": [
      "C:\\ProgramData\\Anaconda3\\lib\\site-packages\\xgboost\\core.py:587: FutureWarning: Series.base is deprecated and will be removed in a future version\n",
      "  if getattr(data, 'base', None) is not None and \\\n"
     ]
    },
    {
     "name": "stdout",
     "output_type": "stream",
     "text": [
      "[500]\ttrain-rmse:1.16787\tvalid_data-rmse:2.25541\n",
      "[1000]\ttrain-rmse:0.876961\tvalid_data-rmse:2.24088\n",
      "Stopping. Best iteration:\n",
      "[1188]\ttrain-rmse:0.804986\tvalid_data-rmse:2.23587\n",
      "\n",
      "Fold 8 started at Mon Jun 10 23:14:17 2019\n",
      "[0]\ttrain-rmse:15.6196\tvalid_data-rmse:15.507\n",
      "Multiple eval metrics have been passed: 'valid_data-rmse' will be used for early stopping.\n",
      "\n",
      "Will train until valid_data-rmse hasn't improved in 200 rounds.\n"
     ]
    },
    {
     "name": "stderr",
     "output_type": "stream",
     "text": [
      "C:\\ProgramData\\Anaconda3\\lib\\site-packages\\xgboost\\core.py:587: FutureWarning: Series.base is deprecated and will be removed in a future version\n",
      "  if getattr(data, 'base', None) is not None and \\\n"
     ]
    },
    {
     "name": "stdout",
     "output_type": "stream",
     "text": [
      "[500]\ttrain-rmse:1.17667\tvalid_data-rmse:2.29176\n",
      "Stopping. Best iteration:\n",
      "[485]\ttrain-rmse:1.19144\tvalid_data-rmse:2.29104\n",
      "\n",
      "Fold 9 started at Mon Jun 10 23:14:32 2019\n",
      "[0]\ttrain-rmse:15.5935\tvalid_data-rmse:15.7339\n",
      "Multiple eval metrics have been passed: 'valid_data-rmse' will be used for early stopping.\n",
      "\n",
      "Will train until valid_data-rmse hasn't improved in 200 rounds.\n"
     ]
    },
    {
     "name": "stderr",
     "output_type": "stream",
     "text": [
      "C:\\ProgramData\\Anaconda3\\lib\\site-packages\\xgboost\\core.py:587: FutureWarning: Series.base is deprecated and will be removed in a future version\n",
      "  if getattr(data, 'base', None) is not None and \\\n"
     ]
    },
    {
     "name": "stdout",
     "output_type": "stream",
     "text": [
      "[500]\ttrain-rmse:1.18435\tvalid_data-rmse:2.09861\n",
      "[1000]\ttrain-rmse:0.897804\tvalid_data-rmse:2.06776\n",
      "[1500]\ttrain-rmse:0.743612\tvalid_data-rmse:2.06466\n",
      "[2000]\ttrain-rmse:0.643747\tvalid_data-rmse:2.06049\n",
      "Stopping. Best iteration:\n",
      "[2092]\ttrain-rmse:0.626963\tvalid_data-rmse:2.05861\n",
      "\n",
      "CV mean score: 2.0918, std: 0.1931.\n",
      "309.16461849999996 seconds\n"
     ]
    },
    {
     "name": "stderr",
     "output_type": "stream",
     "text": [
      "C:\\ProgramData\\Anaconda3\\lib\\site-packages\\ipykernel_launcher.py:70: DeprecationWarning: time.clock has been deprecated in Python 3.3 and will be removed from Python 3.8: use time.perf_counter or time.process_time instead\n"
     ]
    },
    {
     "data": {
      "image/png": "[encoded data removed]",
      "text/plain": [
       "<Figure size 1152x864 with 1 Axes>"
      ]
     },
     "metadata": {
      "needs_background": "light"
     },
     "output_type": "display_data"
    }
   ],
   "source": [
    "xgb_params = {'eta': 0.01,\n",
    "              'objective': 'reg:linear',\n",
    "              'max_depth': 7,\n",
    "              'subsample': 0.8,\n",
    "              'colsample_bytree': 0.8,\n",
    "              'eval_metric': 'rmse',\n",
    "              'seed': 11,\n",
    "              'silent': True}\n",
    "oof_xgb, prediction_xgb, _ = train_model(train, test, np.log1p(target), params=xgb_params, model_type='xgb', plot_feature_importance=True)"
   ]
  },
  {
   "cell_type": "code",
   "execution_count": 34,
   "metadata": {},
   "outputs": [],
   "source": [
    "prediction = pd.DataFrame(tid, columns = [\"id\"])\n",
    "prediction[\"revenue\"] = np.expm1(prediction_xgb)\n",
    "prediction = prediction.set_index(\"id\")\n",
    "prediction.to_csv('xgb_submission.csv') "
   ]
  },
  {
   "cell_type": "code",
   "execution_count": 35,
   "metadata": {},
   "outputs": [],
   "source": [
    "prediction = pd.DataFrame(tid, columns = [\"id\"])\n",
    "prediction[\"revenue\"] = np.expm1((prediction_lgb + prediction_xgb) / 2)\n",
    "prediction = prediction.set_index(\"id\")\n",
    "prediction.to_csv('lgb + xgb_submission.csv') "
   ]
  },
  {
   "cell_type": "code",
   "execution_count": null,
   "metadata": {},
   "outputs": [],
   "source": []
  }
 ],
 "metadata": {
  "kernelspec": {
   "display_name": "Python 3",
   "language": "python",
   "name": "python3"
  },
  "language_info": {
   "codemirror_mode": {
    "name": "ipython",
    "version": 3
   },
   "file_extension": ".py",
   "mimetype": "text/x-python",
   "name": "python",
   "nbconvert_exporter": "python",
   "pygments_lexer": "ipython3",
   "version": "3.7.2"
  }
 },
 "nbformat": 4,
 "nbformat_minor": 2
}
